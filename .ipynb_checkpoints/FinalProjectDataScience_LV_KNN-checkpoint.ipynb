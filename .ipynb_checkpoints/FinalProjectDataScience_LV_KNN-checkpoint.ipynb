{
 "cells": [
  {
   "cell_type": "code",
   "execution_count": 63,
   "metadata": {},
   "outputs": [],
   "source": [
    "import pandas as pd\n",
    "df = pd.read_csv(\"LasVegas_ProcessedDataSet.csv\")\n",
    "LV_restaurants_Cat = df"
   ]
  },
  {
   "cell_type": "code",
   "execution_count": 64,
   "metadata": {},
   "outputs": [],
   "source": [
    "import pandas as pd\n",
    "df = pd.read_json('business.json', lines=True)\n",
    "df.categories = df.categories.fillna('No category')\n",
    "df = df.loc[df['categories'].str.contains('Restaurants')]\n",
    "df = df[df['state'].str.contains('NV')]\n",
    "df = df[df['city'].str.contains('Las Vegas')]\n",
    "\n",
    "Business_Table_2 = df[['business_id', 'attributes']]\n",
    "Business_Table_2['attributes'].apply(pd.Series)\n",
    "Business_Table_2 = pd.concat([Business_Table_2.drop(['attributes'], axis=1), Business_Table_2['attributes'].apply(pd.Series)], axis=1)"
   ]
  },
  {
   "cell_type": "code",
   "execution_count": 65,
   "metadata": {},
   "outputs": [],
   "source": [
    "LV_Business_Table = Business_Table_2.drop(['HappyHour', 'GoodForDancing','Smoking', 'GoodForMeal', 'Music', 'BikeParking', 'RestaurantsAttire', 'BusinessAcceptsBitcoin', 'ByAppointmentOnly', 'AcceptsInsurance', 'BusinessParking', 'Ambience', 'Caters', 'NoiseLevel', 'RestaurantsTableService', 'RestaurantsTakeOut','DriveThru', 'AgesAllowed', 'Corkage', 'CoatCheck', 'WheelchairAccessible', 'BestNights', 'BYOB', 'DietaryRestrictions', 'Open24Hours','DogsAllowed', 'BYOBCorkage','RestaurantsCounterService'], axis=1)\n"
   ]
  },
  {
   "cell_type": "code",
   "execution_count": 66,
   "metadata": {},
   "outputs": [],
   "source": [
    "LV_merged_attribs_Cats =  LV_Business_Table.merge(LV_restaurants_Cat, on='business_id')"
   ]
  },
  {
   "cell_type": "code",
   "execution_count": 67,
   "metadata": {},
   "outputs": [],
   "source": [
    "LV_merged_attribs_Cats = LV_merged_attribs_Cats.drop(['name', 'address', 'city', 'state', 'postal_code'], axis=1)\n",
    "#LV_merged_attribs_Cats.isnull().sum()"
   ]
  },
  {
   "cell_type": "code",
   "execution_count": 68,
   "metadata": {},
   "outputs": [],
   "source": [
    "#Change all null to False except price\n",
    "LV_merged_attribs_Cats.OutdoorSeating = LV_merged_attribs_Cats.OutdoorSeating.fillna('False')\n",
    "LV_merged_attribs_Cats.BusinessAcceptsCreditCards = LV_merged_attribs_Cats.BusinessAcceptsCreditCards.fillna('False')\n",
    "LV_merged_attribs_Cats.RestaurantsDelivery = LV_merged_attribs_Cats.RestaurantsDelivery.fillna('False')\n",
    "LV_merged_attribs_Cats.RestaurantsReservations = LV_merged_attribs_Cats.RestaurantsReservations.fillna('False')\n",
    "LV_merged_attribs_Cats.RestaurantsGoodForGroups = LV_merged_attribs_Cats.RestaurantsGoodForGroups.fillna('False')\n",
    "LV_merged_attribs_Cats.GoodForKids = LV_merged_attribs_Cats.GoodForKids.fillna('False')\n",
    "LV_merged_attribs_Cats.HasTV = LV_merged_attribs_Cats.HasTV.fillna('False')\n",
    "LV_merged_attribs_Cats.WiFi = LV_merged_attribs_Cats.WiFi.fillna('False')\n",
    "LV_merged_attribs_Cats.Alcohol = LV_merged_attribs_Cats.Alcohol.fillna('False')"
   ]
  },
  {
   "cell_type": "code",
   "execution_count": 69,
   "metadata": {},
   "outputs": [],
   "source": [
    "#Change WiFi to True and False\n",
    "LV_merged_attribs_Cats = LV_merged_attribs_Cats.replace(to_replace = \"'no'\", value = \"False\")\n",
    "LV_merged_attribs_Cats = LV_merged_attribs_Cats.replace(to_replace = \"u'no'\", value = \"False\")\n",
    "LV_merged_attribs_Cats = LV_merged_attribs_Cats.replace(to_replace = \"u'free'\", value = \"True\")\n",
    "LV_merged_attribs_Cats = LV_merged_attribs_Cats.replace(to_replace = \"'free'\", value = \"True\")\n",
    "LV_merged_attribs_Cats = LV_merged_attribs_Cats.replace(to_replace = \"'paid'\", value = \"True\")\n",
    "LV_merged_attribs_Cats = LV_merged_attribs_Cats.replace(to_replace = \"u'paid'\", value = \"True\")\n",
    "LV_merged_attribs_Cats = LV_merged_attribs_Cats.replace(to_replace = \"None\", value = \"False\")"
   ]
  },
  {
   "cell_type": "code",
   "execution_count": 70,
   "metadata": {},
   "outputs": [],
   "source": [
    "#Change Alcohol to True and False\n",
    "LV_merged_attribs_Cats = LV_merged_attribs_Cats.replace(to_replace = \"u'full_bar'\", value = \"True\")\n",
    "LV_merged_attribs_Cats = LV_merged_attribs_Cats.replace(to_replace = \"u'beer_and_wine'\", value = \"True\")\n",
    "LV_merged_attribs_Cats = LV_merged_attribs_Cats.replace(to_replace = \"'full_bar'\", value = \"True\")\n",
    "LV_merged_attribs_Cats = LV_merged_attribs_Cats.replace(to_replace = \"'beer_and_wine'\", value = \"True\")\n",
    "LV_merged_attribs_Cats = LV_merged_attribs_Cats.replace(to_replace = \"u'none'\", value = \"False\")\n",
    "LV_merged_attribs_Cats = LV_merged_attribs_Cats.replace(to_replace = \"'none'\", value = \"False\")\n",
    "LV_merged_attribs_Cats = LV_merged_attribs_Cats.replace(to_replace = \"None\", value = \"False\")"
   ]
  },
  {
   "cell_type": "code",
   "execution_count": 71,
   "metadata": {},
   "outputs": [],
   "source": [
    "# Change RestaurantPriceRange2 False Values to 2\n",
    "LV_merged_attribs_Cats.RestaurantsPriceRange2 = LV_merged_attribs_Cats.RestaurantsPriceRange2.replace(to_replace = \"False\", value = \"2\")"
   ]
  },
  {
   "cell_type": "code",
   "execution_count": 72,
   "metadata": {},
   "outputs": [],
   "source": [
    "#Drop Values that does not have range prices\n",
    "LV_merged_attribs_Cats = LV_merged_attribs_Cats.dropna()"
   ]
  },
  {
   "cell_type": "code",
   "execution_count": 73,
   "metadata": {},
   "outputs": [],
   "source": [
    "#Convert stars column from float to int\n",
    "LV_merged_attribs_Cats['stars'] = LV_merged_attribs_Cats['stars'] * 10\n",
    "LV_merged_attribs_Cats['stars']= LV_merged_attribs_Cats['stars'].astype(int)"
   ]
  },
  {
   "cell_type": "code",
   "execution_count": 74,
   "metadata": {},
   "outputs": [],
   "source": [
    "#Backup our DF\n",
    "LV_LabelEncoder = LV_merged_attribs_Cats"
   ]
  },
  {
   "cell_type": "code",
   "execution_count": 75,
   "metadata": {},
   "outputs": [
    {
     "data": {
      "text/plain": [
       "61.831556945125904"
      ]
     },
     "execution_count": 75,
     "metadata": {},
     "output_type": "execute_result"
    }
   ],
   "source": [
    "# variance of the star column\n",
    "LV_LabelEncoder.loc[:,\"stars\"].var()"
   ]
  },
  {
   "cell_type": "code",
   "execution_count": 76,
   "metadata": {},
   "outputs": [],
   "source": [
    "#Highly Rated Column\n",
    "LV_LabelEncoder.loc[(LV_LabelEncoder.stars <= 40) & (LV_LabelEncoder.review_count < 150), 'HighlyRated'] = 'False'\n",
    "LV_LabelEncoder.loc[(LV_LabelEncoder.stars <= 40) & (LV_LabelEncoder.review_count > 150), 'HighlyRated'] = 'False'\n",
    "LV_LabelEncoder.loc[(LV_LabelEncoder.stars >= 40) & (LV_LabelEncoder.review_count < 150), 'HighlyRated'] = 'False'\n",
    "LV_LabelEncoder.loc[(LV_LabelEncoder.stars >= 40) & (LV_LabelEncoder.review_count > 150), 'HighlyRated'] = 'True' \n",
    "LV_LabelEncoder.loc[(LV_LabelEncoder.stars < 40) & (LV_LabelEncoder.review_count <= 150), 'HighlyRated'] = 'False'\n",
    "LV_LabelEncoder.loc[(LV_LabelEncoder.stars < 40) & (LV_LabelEncoder.review_count >= 150), 'HighlyRated'] = 'False'\n",
    "LV_LabelEncoder.loc[(LV_LabelEncoder.stars > 40) & (LV_LabelEncoder.review_count <= 150), 'HighlyRated'] = 'False'\n",
    "LV_LabelEncoder.loc[(LV_LabelEncoder.stars > 40) & (LV_LabelEncoder.review_count >= 150), 'HighlyRated'] = 'True' \n",
    "LV_LabelEncoder.loc[(LV_LabelEncoder.stars == 40) & (LV_LabelEncoder.review_count == 150), 'HighlyRated'] = 'True'\n"
   ]
  },
  {
   "cell_type": "code",
   "execution_count": 77,
   "metadata": {},
   "outputs": [],
   "source": [
    "#HighlyRated as Target\n",
    "Target = LV_LabelEncoder['HighlyRated']"
   ]
  },
  {
   "cell_type": "code",
   "execution_count": 78,
   "metadata": {},
   "outputs": [],
   "source": [
    "#Drop the Business_id column\n",
    "LV_LabelEncoder = LV_LabelEncoder.drop(['business_id'], axis = 1)"
   ]
  },
  {
   "cell_type": "code",
   "execution_count": 79,
   "metadata": {},
   "outputs": [],
   "source": [
    "from sklearn.preprocessing import LabelEncoder\n",
    "le_OutdoorSeating = LabelEncoder()\n",
    "le_BusinessAcceptsCreditCards = LabelEncoder()\n",
    "le_RestaurantsDelivery = LabelEncoder()\n",
    "le_RestaurantsReservations = LabelEncoder()\n",
    "le_HasTV = LabelEncoder()\n",
    "le_RestaurantsPriceRange2 = LabelEncoder()\n",
    "le_RestaurantsGoodForGroups = LabelEncoder()\n",
    "le_WiFi = LabelEncoder()\n",
    "le_GoodForKids = LabelEncoder()\n",
    "le_Alcohol = LabelEncoder()\n",
    "le_stars = LabelEncoder()\n",
    "le_review_count = LabelEncoder()\n",
    "le_is_open = LabelEncoder()\n",
    "le_TypeCusine = LabelEncoder()\n",
    "le_HighlyRated = LabelEncoder()"
   ]
  },
  {
   "cell_type": "code",
   "execution_count": 80,
   "metadata": {},
   "outputs": [
    {
     "data": {
      "text/html": [
       "<div>\n",
       "<style scoped>\n",
       "    .dataframe tbody tr th:only-of-type {\n",
       "        vertical-align: middle;\n",
       "    }\n",
       "\n",
       "    .dataframe tbody tr th {\n",
       "        vertical-align: top;\n",
       "    }\n",
       "\n",
       "    .dataframe thead th {\n",
       "        text-align: right;\n",
       "    }\n",
       "</style>\n",
       "<table border=\"1\" class=\"dataframe\">\n",
       "  <thead>\n",
       "    <tr style=\"text-align: right;\">\n",
       "      <th></th>\n",
       "      <th>OutdoorSeating</th>\n",
       "      <th>BusinessAcceptsCreditCards</th>\n",
       "      <th>RestaurantsDelivery</th>\n",
       "      <th>RestaurantsReservations</th>\n",
       "      <th>HasTV</th>\n",
       "      <th>RestaurantsPriceRange2</th>\n",
       "      <th>RestaurantsGoodForGroups</th>\n",
       "      <th>WiFi</th>\n",
       "      <th>GoodForKids</th>\n",
       "      <th>Alcohol</th>\n",
       "      <th>...</th>\n",
       "      <th>OutdoorSeating_New</th>\n",
       "      <th>BusinessAcceptsCreditCards_New</th>\n",
       "      <th>RestaurantsDelivery_New</th>\n",
       "      <th>RestaurantsReservations_New</th>\n",
       "      <th>HasTV_New</th>\n",
       "      <th>RestaurantsGoodForGroups_New</th>\n",
       "      <th>WiFi_New</th>\n",
       "      <th>GoodForKids_New</th>\n",
       "      <th>Alcohol_New</th>\n",
       "      <th>HighlyRated_New</th>\n",
       "    </tr>\n",
       "  </thead>\n",
       "  <tbody>\n",
       "    <tr>\n",
       "      <td>0</td>\n",
       "      <td>False</td>\n",
       "      <td>True</td>\n",
       "      <td>False</td>\n",
       "      <td>True</td>\n",
       "      <td>False</td>\n",
       "      <td>2</td>\n",
       "      <td>True</td>\n",
       "      <td>False</td>\n",
       "      <td>True</td>\n",
       "      <td>True</td>\n",
       "      <td>...</td>\n",
       "      <td>0</td>\n",
       "      <td>1</td>\n",
       "      <td>0</td>\n",
       "      <td>1</td>\n",
       "      <td>0</td>\n",
       "      <td>1</td>\n",
       "      <td>0</td>\n",
       "      <td>1</td>\n",
       "      <td>1</td>\n",
       "      <td>0</td>\n",
       "    </tr>\n",
       "    <tr>\n",
       "      <td>1</td>\n",
       "      <td>False</td>\n",
       "      <td>True</td>\n",
       "      <td>False</td>\n",
       "      <td>False</td>\n",
       "      <td>True</td>\n",
       "      <td>1</td>\n",
       "      <td>True</td>\n",
       "      <td>False</td>\n",
       "      <td>True</td>\n",
       "      <td>True</td>\n",
       "      <td>...</td>\n",
       "      <td>0</td>\n",
       "      <td>1</td>\n",
       "      <td>0</td>\n",
       "      <td>0</td>\n",
       "      <td>1</td>\n",
       "      <td>1</td>\n",
       "      <td>0</td>\n",
       "      <td>1</td>\n",
       "      <td>1</td>\n",
       "      <td>1</td>\n",
       "    </tr>\n",
       "    <tr>\n",
       "      <td>2</td>\n",
       "      <td>False</td>\n",
       "      <td>True</td>\n",
       "      <td>False</td>\n",
       "      <td>False</td>\n",
       "      <td>False</td>\n",
       "      <td>1</td>\n",
       "      <td>True</td>\n",
       "      <td>False</td>\n",
       "      <td>True</td>\n",
       "      <td>False</td>\n",
       "      <td>...</td>\n",
       "      <td>0</td>\n",
       "      <td>1</td>\n",
       "      <td>0</td>\n",
       "      <td>0</td>\n",
       "      <td>0</td>\n",
       "      <td>1</td>\n",
       "      <td>0</td>\n",
       "      <td>1</td>\n",
       "      <td>0</td>\n",
       "      <td>0</td>\n",
       "    </tr>\n",
       "    <tr>\n",
       "      <td>4</td>\n",
       "      <td>False</td>\n",
       "      <td>True</td>\n",
       "      <td>False</td>\n",
       "      <td>True</td>\n",
       "      <td>True</td>\n",
       "      <td>4</td>\n",
       "      <td>True</td>\n",
       "      <td>False</td>\n",
       "      <td>False</td>\n",
       "      <td>True</td>\n",
       "      <td>...</td>\n",
       "      <td>0</td>\n",
       "      <td>1</td>\n",
       "      <td>0</td>\n",
       "      <td>1</td>\n",
       "      <td>1</td>\n",
       "      <td>1</td>\n",
       "      <td>0</td>\n",
       "      <td>0</td>\n",
       "      <td>1</td>\n",
       "      <td>0</td>\n",
       "    </tr>\n",
       "    <tr>\n",
       "      <td>5</td>\n",
       "      <td>False</td>\n",
       "      <td>True</td>\n",
       "      <td>False</td>\n",
       "      <td>False</td>\n",
       "      <td>False</td>\n",
       "      <td>2</td>\n",
       "      <td>False</td>\n",
       "      <td>False</td>\n",
       "      <td>False</td>\n",
       "      <td>False</td>\n",
       "      <td>...</td>\n",
       "      <td>0</td>\n",
       "      <td>1</td>\n",
       "      <td>0</td>\n",
       "      <td>0</td>\n",
       "      <td>0</td>\n",
       "      <td>0</td>\n",
       "      <td>0</td>\n",
       "      <td>0</td>\n",
       "      <td>0</td>\n",
       "      <td>0</td>\n",
       "    </tr>\n",
       "  </tbody>\n",
       "</table>\n",
       "<p>5 rows × 26 columns</p>\n",
       "</div>"
      ],
      "text/plain": [
       "  OutdoorSeating BusinessAcceptsCreditCards RestaurantsDelivery  \\\n",
       "0          False                       True               False   \n",
       "1          False                       True               False   \n",
       "2          False                       True               False   \n",
       "4          False                       True               False   \n",
       "5          False                       True               False   \n",
       "\n",
       "  RestaurantsReservations  HasTV RestaurantsPriceRange2  \\\n",
       "0                    True  False                      2   \n",
       "1                   False   True                      1   \n",
       "2                   False  False                      1   \n",
       "4                    True   True                      4   \n",
       "5                   False  False                      2   \n",
       "\n",
       "  RestaurantsGoodForGroups   WiFi GoodForKids Alcohol  ... OutdoorSeating_New  \\\n",
       "0                     True  False        True    True  ...                  0   \n",
       "1                     True  False        True    True  ...                  0   \n",
       "2                     True  False        True   False  ...                  0   \n",
       "4                     True  False       False    True  ...                  0   \n",
       "5                    False  False       False   False  ...                  0   \n",
       "\n",
       "   BusinessAcceptsCreditCards_New  RestaurantsDelivery_New  \\\n",
       "0                               1                        0   \n",
       "1                               1                        0   \n",
       "2                               1                        0   \n",
       "4                               1                        0   \n",
       "5                               1                        0   \n",
       "\n",
       "   RestaurantsReservations_New HasTV_New RestaurantsGoodForGroups_New  \\\n",
       "0                            1         0                            1   \n",
       "1                            0         1                            1   \n",
       "2                            0         0                            1   \n",
       "4                            1         1                            1   \n",
       "5                            0         0                            0   \n",
       "\n",
       "   WiFi_New  GoodForKids_New  Alcohol_New  HighlyRated_New  \n",
       "0         0                1            1                0  \n",
       "1         0                1            1                1  \n",
       "2         0                1            0                0  \n",
       "4         0                0            1                0  \n",
       "5         0                0            0                0  \n",
       "\n",
       "[5 rows x 26 columns]"
      ]
     },
     "execution_count": 80,
     "metadata": {},
     "output_type": "execute_result"
    }
   ],
   "source": [
    "#Create new columns on our dataset using he new le values\n",
    "LV_LabelEncoder['OutdoorSeating_New'] = le_OutdoorSeating.fit_transform(LV_LabelEncoder['OutdoorSeating'])\n",
    "LV_LabelEncoder['BusinessAcceptsCreditCards_New'] = le_BusinessAcceptsCreditCards.fit_transform(LV_LabelEncoder['BusinessAcceptsCreditCards'])\n",
    "LV_LabelEncoder['RestaurantsDelivery_New'] = le_RestaurantsDelivery.fit_transform(LV_LabelEncoder['RestaurantsDelivery'])\n",
    "LV_LabelEncoder['RestaurantsReservations_New'] = le_RestaurantsReservations.fit_transform(LV_LabelEncoder['RestaurantsReservations'])\n",
    "LV_LabelEncoder['HasTV_New'] = le_HasTV.fit_transform(LV_LabelEncoder['HasTV'])\n",
    "LV_LabelEncoder['RestaurantsGoodForGroups_New'] = le_RestaurantsGoodForGroups.fit_transform(LV_LabelEncoder['RestaurantsGoodForGroups'])\n",
    "LV_LabelEncoder['WiFi_New'] = le_WiFi.fit_transform(LV_LabelEncoder['WiFi'])\n",
    "LV_LabelEncoder['GoodForKids_New'] = le_GoodForKids.fit_transform(LV_LabelEncoder['GoodForKids'])\n",
    "LV_LabelEncoder['Alcohol_New'] = le_Alcohol.fit_transform(LV_LabelEncoder['Alcohol'])\n",
    "#LV_LabelEncoder['TypeCusine_New'] = le_TypeCusine.fit_transform(LV_LabelEncoder['TypeCusine'])\n",
    "LV_LabelEncoder['HighlyRated_New'] = le_HighlyRated.fit_transform(LV_LabelEncoder['HighlyRated'])\n",
    "LV_LabelEncoder.head()\n"
   ]
  },
  {
   "cell_type": "code",
   "execution_count": 81,
   "metadata": {},
   "outputs": [],
   "source": [
    "#Create dummy variables for TypeCusine\n",
    "cuisine_dummies = pd.get_dummies(LV_LabelEncoder.TypeCusine, prefix='Cuisine')\n",
    "LV_LabelEncoder = pd.concat([LV_LabelEncoder, cuisine_dummies], axis=1)"
   ]
  },
  {
   "cell_type": "code",
   "execution_count": 82,
   "metadata": {},
   "outputs": [],
   "source": [
    "#Drop the original columns in favor of the numerical columns\n",
    "LV_LabelEncoder = LV_LabelEncoder.drop(['OutdoorSeating', 'BusinessAcceptsCreditCards', 'RestaurantsDelivery', 'RestaurantsReservations', 'HasTV', 'RestaurantsGoodForGroups', 'WiFi', 'GoodForKids', 'Alcohol', 'TypeCusine', 'HighlyRated'], axis=1)"
   ]
  },
  {
   "cell_type": "code",
   "execution_count": 83,
   "metadata": {},
   "outputs": [],
   "source": [
    "#Make a copy before dropping HighlyRated_New, stars and review_count\n",
    "LV_Complete = LV_LabelEncoder\n",
    "LV_LabelEncoder = LV_LabelEncoder.drop(['HighlyRated_New'], axis=1)\n",
    "LV_LabelEncoder = LV_LabelEncoder.drop(['stars'], axis=1)\n",
    "LV_LabelEncoder = LV_LabelEncoder.drop(['review_count'], axis=1)\n",
    "LV_LabelEncoder = LV_LabelEncoder.drop(['categories'], axis=1)"
   ]
  },
  {
   "cell_type": "code",
   "execution_count": 84,
   "metadata": {},
   "outputs": [
    {
     "data": {
      "text/html": [
       "<div>\n",
       "<style scoped>\n",
       "    .dataframe tbody tr th:only-of-type {\n",
       "        vertical-align: middle;\n",
       "    }\n",
       "\n",
       "    .dataframe tbody tr th {\n",
       "        vertical-align: top;\n",
       "    }\n",
       "\n",
       "    .dataframe thead th {\n",
       "        text-align: right;\n",
       "    }\n",
       "</style>\n",
       "<table border=\"1\" class=\"dataframe\">\n",
       "  <thead>\n",
       "    <tr style=\"text-align: right;\">\n",
       "      <th></th>\n",
       "      <th>RestaurantsPriceRange2</th>\n",
       "      <th>is_open</th>\n",
       "      <th>OutdoorSeating_New</th>\n",
       "      <th>BusinessAcceptsCreditCards_New</th>\n",
       "      <th>RestaurantsDelivery_New</th>\n",
       "      <th>RestaurantsReservations_New</th>\n",
       "      <th>HasTV_New</th>\n",
       "      <th>RestaurantsGoodForGroups_New</th>\n",
       "      <th>WiFi_New</th>\n",
       "      <th>GoodForKids_New</th>\n",
       "      <th>...</th>\n",
       "      <th>Cuisine_Greek</th>\n",
       "      <th>Cuisine_Hawaiian</th>\n",
       "      <th>Cuisine_Indian</th>\n",
       "      <th>Cuisine_Italian</th>\n",
       "      <th>Cuisine_Japanese</th>\n",
       "      <th>Cuisine_Korean</th>\n",
       "      <th>Cuisine_LatinAmerican</th>\n",
       "      <th>Cuisine_Mediterranean</th>\n",
       "      <th>Cuisine_Mexican</th>\n",
       "      <th>Cuisine_Vietnamese</th>\n",
       "    </tr>\n",
       "  </thead>\n",
       "  <tbody>\n",
       "    <tr>\n",
       "      <td>0</td>\n",
       "      <td>2</td>\n",
       "      <td>0</td>\n",
       "      <td>0</td>\n",
       "      <td>1</td>\n",
       "      <td>0</td>\n",
       "      <td>1</td>\n",
       "      <td>0</td>\n",
       "      <td>1</td>\n",
       "      <td>0</td>\n",
       "      <td>1</td>\n",
       "      <td>...</td>\n",
       "      <td>0</td>\n",
       "      <td>0</td>\n",
       "      <td>0</td>\n",
       "      <td>1</td>\n",
       "      <td>0</td>\n",
       "      <td>0</td>\n",
       "      <td>0</td>\n",
       "      <td>0</td>\n",
       "      <td>0</td>\n",
       "      <td>0</td>\n",
       "    </tr>\n",
       "    <tr>\n",
       "      <td>1</td>\n",
       "      <td>1</td>\n",
       "      <td>1</td>\n",
       "      <td>0</td>\n",
       "      <td>1</td>\n",
       "      <td>0</td>\n",
       "      <td>0</td>\n",
       "      <td>1</td>\n",
       "      <td>1</td>\n",
       "      <td>0</td>\n",
       "      <td>1</td>\n",
       "      <td>...</td>\n",
       "      <td>0</td>\n",
       "      <td>0</td>\n",
       "      <td>0</td>\n",
       "      <td>0</td>\n",
       "      <td>0</td>\n",
       "      <td>0</td>\n",
       "      <td>0</td>\n",
       "      <td>0</td>\n",
       "      <td>1</td>\n",
       "      <td>0</td>\n",
       "    </tr>\n",
       "    <tr>\n",
       "      <td>2</td>\n",
       "      <td>1</td>\n",
       "      <td>0</td>\n",
       "      <td>0</td>\n",
       "      <td>1</td>\n",
       "      <td>0</td>\n",
       "      <td>0</td>\n",
       "      <td>0</td>\n",
       "      <td>1</td>\n",
       "      <td>0</td>\n",
       "      <td>1</td>\n",
       "      <td>...</td>\n",
       "      <td>0</td>\n",
       "      <td>0</td>\n",
       "      <td>0</td>\n",
       "      <td>0</td>\n",
       "      <td>0</td>\n",
       "      <td>0</td>\n",
       "      <td>0</td>\n",
       "      <td>0</td>\n",
       "      <td>0</td>\n",
       "      <td>0</td>\n",
       "    </tr>\n",
       "    <tr>\n",
       "      <td>4</td>\n",
       "      <td>4</td>\n",
       "      <td>0</td>\n",
       "      <td>0</td>\n",
       "      <td>1</td>\n",
       "      <td>0</td>\n",
       "      <td>1</td>\n",
       "      <td>1</td>\n",
       "      <td>1</td>\n",
       "      <td>0</td>\n",
       "      <td>0</td>\n",
       "      <td>...</td>\n",
       "      <td>0</td>\n",
       "      <td>0</td>\n",
       "      <td>0</td>\n",
       "      <td>1</td>\n",
       "      <td>0</td>\n",
       "      <td>0</td>\n",
       "      <td>0</td>\n",
       "      <td>0</td>\n",
       "      <td>0</td>\n",
       "      <td>0</td>\n",
       "    </tr>\n",
       "    <tr>\n",
       "      <td>5</td>\n",
       "      <td>2</td>\n",
       "      <td>0</td>\n",
       "      <td>0</td>\n",
       "      <td>1</td>\n",
       "      <td>0</td>\n",
       "      <td>0</td>\n",
       "      <td>0</td>\n",
       "      <td>0</td>\n",
       "      <td>0</td>\n",
       "      <td>0</td>\n",
       "      <td>...</td>\n",
       "      <td>0</td>\n",
       "      <td>0</td>\n",
       "      <td>0</td>\n",
       "      <td>0</td>\n",
       "      <td>0</td>\n",
       "      <td>0</td>\n",
       "      <td>0</td>\n",
       "      <td>0</td>\n",
       "      <td>0</td>\n",
       "      <td>0</td>\n",
       "    </tr>\n",
       "  </tbody>\n",
       "</table>\n",
       "<p>5 rows × 30 columns</p>\n",
       "</div>"
      ],
      "text/plain": [
       "  RestaurantsPriceRange2  is_open  OutdoorSeating_New  \\\n",
       "0                      2        0                   0   \n",
       "1                      1        1                   0   \n",
       "2                      1        0                   0   \n",
       "4                      4        0                   0   \n",
       "5                      2        0                   0   \n",
       "\n",
       "   BusinessAcceptsCreditCards_New  RestaurantsDelivery_New  \\\n",
       "0                               1                        0   \n",
       "1                               1                        0   \n",
       "2                               1                        0   \n",
       "4                               1                        0   \n",
       "5                               1                        0   \n",
       "\n",
       "   RestaurantsReservations_New  HasTV_New  RestaurantsGoodForGroups_New  \\\n",
       "0                            1          0                             1   \n",
       "1                            0          1                             1   \n",
       "2                            0          0                             1   \n",
       "4                            1          1                             1   \n",
       "5                            0          0                             0   \n",
       "\n",
       "   WiFi_New  GoodForKids_New  ...  Cuisine_Greek  Cuisine_Hawaiian  \\\n",
       "0         0                1  ...              0                 0   \n",
       "1         0                1  ...              0                 0   \n",
       "2         0                1  ...              0                 0   \n",
       "4         0                0  ...              0                 0   \n",
       "5         0                0  ...              0                 0   \n",
       "\n",
       "   Cuisine_Indian  Cuisine_Italian  Cuisine_Japanese  Cuisine_Korean  \\\n",
       "0               0                1                 0               0   \n",
       "1               0                0                 0               0   \n",
       "2               0                0                 0               0   \n",
       "4               0                1                 0               0   \n",
       "5               0                0                 0               0   \n",
       "\n",
       "   Cuisine_LatinAmerican  Cuisine_Mediterranean  Cuisine_Mexican  \\\n",
       "0                      0                      0                0   \n",
       "1                      0                      0                1   \n",
       "2                      0                      0                0   \n",
       "4                      0                      0                0   \n",
       "5                      0                      0                0   \n",
       "\n",
       "   Cuisine_Vietnamese  \n",
       "0                   0  \n",
       "1                   0  \n",
       "2                   0  \n",
       "4                   0  \n",
       "5                   0  \n",
       "\n",
       "[5 rows x 30 columns]"
      ]
     },
     "execution_count": 84,
     "metadata": {},
     "output_type": "execute_result"
    }
   ],
   "source": [
    "LV_LabelEncoder.head()"
   ]
  },
  {
   "cell_type": "code",
   "execution_count": 85,
   "metadata": {},
   "outputs": [],
   "source": [
    "LV_LabelEncoder.head()\n",
    "X = LV_LabelEncoder\n",
    "y = Target"
   ]
  },
  {
   "cell_type": "code",
   "execution_count": 86,
   "metadata": {},
   "outputs": [
    {
     "data": {
      "text/plain": [
       "KNeighborsClassifier(algorithm='auto', leaf_size=30, metric='minkowski',\n",
       "                     metric_params=None, n_jobs=None, n_neighbors=3, p=2,\n",
       "                     weights='uniform')"
      ]
     },
     "execution_count": 86,
     "metadata": {},
     "output_type": "execute_result"
    }
   ],
   "source": [
    "#Import the KNN classifier\n",
    "from sklearn.neighbors import KNeighborsClassifier\n",
    "knn = KNeighborsClassifier(n_neighbors=3)\n",
    "knn.fit(X, y)"
   ]
  },
  {
   "cell_type": "code",
   "execution_count": 87,
   "metadata": {},
   "outputs": [],
   "source": [
    "import sys\n",
    "import numpy\n",
    "numpy.set_printoptions(threshold=sys.maxsize)\n",
    "pred = knn.predict(X)"
   ]
  },
  {
   "cell_type": "code",
   "execution_count": 88,
   "metadata": {},
   "outputs": [
    {
     "data": {
      "text/plain": [
       "0.8662594438193216"
      ]
     },
     "execution_count": 88,
     "metadata": {},
     "output_type": "execute_result"
    }
   ],
   "source": [
    "#Set to K = 3\n",
    "from sklearn import metrics\n",
    "metrics.accuracy_score(y, knn.predict(X))"
   ]
  },
  {
   "cell_type": "code",
   "execution_count": 89,
   "metadata": {},
   "outputs": [
    {
     "data": {
      "text/plain": [
       "0.8577399131972352"
      ]
     },
     "execution_count": 89,
     "metadata": {},
     "output_type": "execute_result"
    }
   ],
   "source": [
    "knn = KNeighborsClassifier(n_neighbors=1)\n",
    "knn.fit(X, y)\n",
    "metrics.accuracy_score(y, knn.predict(X))"
   ]
  },
  {
   "cell_type": "code",
   "execution_count": 90,
   "metadata": {},
   "outputs": [
    {
     "data": {
      "text/plain": [
       "0.8495418742967369"
      ]
     },
     "execution_count": 90,
     "metadata": {},
     "output_type": "execute_result"
    }
   ],
   "source": [
    "knn15 = KNeighborsClassifier(n_neighbors=15)\n",
    "knn15.fit(X, y)\n",
    "#knn15.predict_proba(X)\n",
    "metrics.accuracy_score(y, knn15.predict(X))"
   ]
  },
  {
   "cell_type": "code",
   "execution_count": 91,
   "metadata": {},
   "outputs": [],
   "source": [
    "#Using the Train/Test Split Procedure\n",
    "from sklearn.model_selection import train_test_split\n",
    "X_train, X_test, y_train, y_test = train_test_split(X, y, train_size=0.75, test_size=0.25)"
   ]
  },
  {
   "cell_type": "code",
   "execution_count": 92,
   "metadata": {},
   "outputs": [
    {
     "data": {
      "text/plain": [
       "((4665, 30), (4665,), (1556, 30), (1556,))"
      ]
     },
     "execution_count": 92,
     "metadata": {},
     "output_type": "execute_result"
    }
   ],
   "source": [
    "(X_train.shape, y_train.shape, X_test.shape, y_test.shape)"
   ]
  },
  {
   "cell_type": "code",
   "execution_count": 93,
   "metadata": {},
   "outputs": [
    {
     "data": {
      "text/plain": [
       "KNeighborsClassifier(algorithm='auto', leaf_size=30, metric='minkowski',\n",
       "                     metric_params=None, n_jobs=None, n_neighbors=5, p=2,\n",
       "                     weights='uniform')"
      ]
     },
     "execution_count": 93,
     "metadata": {},
     "output_type": "execute_result"
    }
   ],
   "source": [
    "#Train the model on the training set\n",
    "knn3 = KNeighborsClassifier(n_neighbors=5)\n",
    "knn3.fit(X_train, y_train)"
   ]
  },
  {
   "cell_type": "code",
   "execution_count": 94,
   "metadata": {},
   "outputs": [
    {
     "data": {
      "text/plain": [
       "0.8386889460154242"
      ]
     },
     "execution_count": 94,
     "metadata": {},
     "output_type": "execute_result"
    }
   ],
   "source": [
    "#And evaluate it on the test set\n",
    "metrics.accuracy_score(y_test, knn3.predict(X_test))"
   ]
  },
  {
   "cell_type": "code",
   "execution_count": 95,
   "metadata": {},
   "outputs": [
    {
     "data": {
      "text/plain": [
       "0.794344473007712"
      ]
     },
     "execution_count": 95,
     "metadata": {},
     "output_type": "execute_result"
    }
   ],
   "source": [
    "#  Now maybe 1 neighbor won't work as well?\n",
    "knn1 = KNeighborsClassifier(n_neighbors=1)\n",
    "knn1.fit(X_train, y_train)\n",
    "metrics.accuracy_score(y_test, knn1.predict(X_test))"
   ]
  },
  {
   "cell_type": "code",
   "execution_count": 96,
   "metadata": {},
   "outputs": [],
   "source": [
    "#Comparing Testing Accuracy With Null Accuracy (The Low Bar) -- Should we work on this???"
   ]
  },
  {
   "cell_type": "code",
   "execution_count": 97,
   "metadata": {},
   "outputs": [
    {
     "data": {
      "text/plain": [
       "array([0.8105939 , 0.82664526, 0.8282504 , 0.81511254, 0.82475884,\n",
       "       0.82315113, 0.7926045 , 0.82797428, 0.81964573, 0.82447665])"
      ]
     },
     "execution_count": 97,
     "metadata": {},
     "output_type": "execute_result"
    }
   ],
   "source": [
    "#Cross-Validation N=5\n",
    "from sklearn.model_selection import cross_val_score\n",
    "knn = KNeighborsClassifier(n_neighbors=5)\n",
    "scores = cross_val_score(knn, X, y, cv=10, scoring='accuracy')\n",
    "scores"
   ]
  },
  {
   "cell_type": "code",
   "execution_count": 98,
   "metadata": {},
   "outputs": [
    {
     "data": {
      "text/plain": [
       "(0.8193213236039613, 0.010425109677355533)"
      ]
     },
     "execution_count": 98,
     "metadata": {},
     "output_type": "execute_result"
    }
   ],
   "source": [
    "(scores.mean(), scores.std())"
   ]
  },
  {
   "cell_type": "code",
   "execution_count": 99,
   "metadata": {},
   "outputs": [
    {
     "data": {
      "text/plain": [
       "(0.7984711042492502, 0.8401715429586724)"
      ]
     },
     "execution_count": 99,
     "metadata": {},
     "output_type": "execute_result"
    }
   ],
   "source": [
    "# From this we can get a 95% confidence interval on test accuracy\n",
    "(scores.mean() - 2 * scores.std(), scores.mean() + 2 * scores.std())"
   ]
  },
  {
   "cell_type": "code",
   "execution_count": 100,
   "metadata": {},
   "outputs": [
    {
     "data": {
      "text/plain": [
       "(0.7483633757854246, 0.8053922063939979)"
      ]
     },
     "execution_count": 100,
     "metadata": {},
     "output_type": "execute_result"
    }
   ],
   "source": [
    "#Cross-Validation N=1\n",
    "#Cross-validation can be used to estimate the test error associated with a learning method in order to evaluate\n",
    "#its performance, or to select the appropriate level of flexibility\n",
    "from sklearn.model_selection import cross_val_score\n",
    "knn = KNeighborsClassifier(n_neighbors=1)\n",
    "scores = cross_val_score(knn, X, y, cv=10)\n",
    "(scores.mean() - 2*scores.std(), scores.mean() + 2 * scores.std())"
   ]
  },
  {
   "cell_type": "markdown",
   "metadata": {},
   "source": [
    "********SHOULD WE USE THIS*********\n",
    "\n",
    "There is a tradeoff in choosing number of cross-validation folds\n",
    "Fewer folds, faster, less aggressive use of test data (cv=1 is just a train/test split)\n",
    "More folds, slower. cv=n-1 is \"all but one validation"
   ]
  },
  {
   "cell_type": "code",
   "execution_count": 101,
   "metadata": {},
   "outputs": [
    {
     "name": "stdout",
     "output_type": "stream",
     "text": [
      "2 0.8289668648019008 0.002865932625751799\n",
      "10 0.8307379351533057 0.007460014875426301\n",
      "20 0.8334800624469745 0.0093368037560013\n",
      "50 0.8333049462365593 0.01906780444369377\n",
      "100 0.8320644573711736 0.030468921537039454\n",
      "200 0.832915994623656 0.043932075430317095\n"
     ]
    }
   ],
   "source": [
    "knn = KNeighborsClassifier(n_neighbors=10)\n",
    "for v in (2, 10, 20, 50, 100, 200):\n",
    "    cv = cross_val_score(knn, X, y, cv=v)\n",
    "    print (v, cv.mean(), cv.std())"
   ]
  },
  {
   "cell_type": "code",
   "execution_count": 102,
   "metadata": {},
   "outputs": [],
   "source": [
    "#Hyperparameter Optimization\n",
    "scores = []\n",
    "for k in range(1, 200, 5):\n",
    "    knn = KNeighborsClassifier(n_neighbors=k)\n",
    "    cv = cross_val_score(knn, X, y, cv=10)\n",
    "    scores.append([k, cv.mean()])"
   ]
  },
  {
   "cell_type": "code",
   "execution_count": 103,
   "metadata": {},
   "outputs": [
    {
     "data": {
      "text/plain": [
       "[1, 0.7768777910897112]"
      ]
     },
     "execution_count": 103,
     "metadata": {},
     "output_type": "execute_result"
    }
   ],
   "source": [
    "scores[0]"
   ]
  },
  {
   "cell_type": "code",
   "execution_count": 104,
   "metadata": {},
   "outputs": [
    {
     "data": {
      "text/plain": [
       "<matplotlib.axes._subplots.AxesSubplot at 0x2ac42019b48>"
      ]
     },
     "execution_count": 104,
     "metadata": {},
     "output_type": "execute_result"
    },
    {
     "data": {
      "image/png": "[encoded data removed]",
      "text/plain": [
       "<Figure size 432x288 with 1 Axes>"
      ]
     },
     "metadata": {
      "needs_background": "light"
     },
     "output_type": "display_data"
    }
   ],
   "source": [
    "# This is a plot of test accuracy as a function of k\n",
    "\n",
    "data = pd.DataFrame(scores,columns=['k','score'])\n",
    "data.plot.line(x='k',y='score')"
   ]
  },
  {
   "cell_type": "code",
   "execution_count": 105,
   "metadata": {},
   "outputs": [
    {
     "data": {
      "image/png": "[encoded data removed]",
      "text/plain": [
       "<Figure size 432x288 with 1 Axes>"
      ]
     },
     "metadata": {
      "needs_background": "light"
     },
     "output_type": "display_data"
    }
   ],
   "source": [
    "# Run between k range 10 and 100\n",
    "scores = []\n",
    "for k in range(10, 100, 5):\n",
    "    knn = KNeighborsClassifier(n_neighbors=k)\n",
    "    cv = cross_val_score(knn, X, y, cv=10)\n",
    "    scores.append([k, cv.mean()])\n",
    "data = pd.DataFrame(scores,columns=['k','score'])\n",
    "data.plot.line(x='k',y='score');"
   ]
  },
  {
   "cell_type": "code",
   "execution_count": 106,
   "metadata": {},
   "outputs": [
    {
     "data": {
      "image/png": "[encoded data removed]",
      "text/plain": [
       "<Figure size 432x288 with 1 Axes>"
      ]
     },
     "metadata": {
      "needs_background": "light"
     },
     "output_type": "display_data"
    }
   ],
   "source": [
    "# K between 60 and 80\n",
    "scores = []\n",
    "for k in range(62, 68, 1):\n",
    "    knn = KNeighborsClassifier(n_neighbors=k)\n",
    "    cv = cross_val_score(knn, X, y, cv=10)\n",
    "    scores.append([k, cv.mean()])\n",
    "data = pd.DataFrame(scores,columns=['k','score'])\n",
    "data.plot.line(x='k',y='score');"
   ]
  },
  {
   "cell_type": "code",
   "execution_count": 107,
   "metadata": {},
   "outputs": [
    {
     "data": {
      "text/plain": [
       "0.8354755784061697"
      ]
     },
     "execution_count": 107,
     "metadata": {},
     "output_type": "execute_result"
    }
   ],
   "source": [
    "#  Now maybe 64 neighbor\n",
    "knn1 = KNeighborsClassifier(n_neighbors=64)\n",
    "knn1.fit(X_train, y_train)\n",
    "metrics.accuracy_score(y_test, knn1.predict(X_test))"
   ]
  }
 ],
 "metadata": {
  "kernelspec": {
   "display_name": "Python 3",
   "language": "python",
   "name": "python3"
  },
  "language_info": {
   "codemirror_mode": {
    "name": "ipython",
    "version": 3
   },
   "file_extension": ".py",
   "mimetype": "text/x-python",
   "name": "python",
   "nbconvert_exporter": "python",
   "pygments_lexer": "ipython3",
   "version": "3.7.4"
  }
 },
 "nbformat": 4,
 "nbformat_minor": 2
}
