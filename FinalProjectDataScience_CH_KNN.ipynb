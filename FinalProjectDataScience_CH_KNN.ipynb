{
 "cells": [
  {
   "cell_type": "code",
   "execution_count": 101,
   "metadata": {},
   "outputs": [],
   "source": [
    "import pandas as pd\n",
    "df = pd.read_csv(\"Charlotte_ProcessedDataSet.csv\")\n",
    "CH_restaurants_Cat = df"
   ]
  },
  {
   "cell_type": "code",
   "execution_count": 102,
   "metadata": {},
   "outputs": [],
   "source": [
    "import pandas as pd\n",
    "df = pd.read_json('business.json', lines=True)\n",
    "df.categories = df.categories.fillna('No category')\n",
    "df = df.loc[df['categories'].str.contains('Restaurants')]\n",
    "df = df[df['state'].str.contains('NC')]\n",
    "df = df[df['city'].str.contains('Charlotte')]\n",
    "\n",
    "Business_Table_2 = df[['business_id', 'attributes']]\n",
    "Business_Table_2['attributes'].apply(pd.Series)\n",
    "Business_Table_2 = pd.concat([Business_Table_2.drop(['attributes'], axis=1), Business_Table_2['attributes'].apply(pd.Series)], axis=1)"
   ]
  },
  {
   "cell_type": "code",
   "execution_count": 103,
   "metadata": {},
   "outputs": [],
   "source": [
    "CH_Business_Table = Business_Table_2.drop(['HappyHour', 'GoodForDancing','Smoking', 'GoodForMeal', 'Music', 'BikeParking', 'RestaurantsAttire', 'BusinessAcceptsBitcoin', 'ByAppointmentOnly', 'AcceptsInsurance', 'BusinessParking', 'Ambience', 'Caters', 'NoiseLevel', 'RestaurantsTableService', 'RestaurantsTakeOut','DriveThru', 'AgesAllowed', 'Corkage', 'CoatCheck', 'WheelchairAccessible', 'BestNights', 'BYOB', 'DietaryRestrictions', 'Open24Hours','DogsAllowed', 'BYOBCorkage'], axis=1)"
   ]
  },
  {
   "cell_type": "code",
   "execution_count": 104,
   "metadata": {},
   "outputs": [],
   "source": [
    "CH_merged_attribs_Cats =  CH_Business_Table.merge(CH_restaurants_Cat, on='business_id')"
   ]
  },
  {
   "cell_type": "code",
   "execution_count": 105,
   "metadata": {},
   "outputs": [],
   "source": [
    "CH_merged_attribs_Cats = CH_merged_attribs_Cats.drop(['name', 'address', 'city', 'state', 'postal_code', 'categories', 'HairSpecializesIn'], axis=1)\n",
    "#CH_merged_attribs_Cats.isnull().sum()"
   ]
  },
  {
   "cell_type": "code",
   "execution_count": 106,
   "metadata": {},
   "outputs": [
    {
     "data": {
      "text/plain": [
       "business_id                   2674\n",
       "GoodForKids                   2674\n",
       "RestaurantsDelivery           2674\n",
       "Alcohol                       2674\n",
       "WiFi                          2674\n",
       "BusinessAcceptsCreditCards    2674\n",
       "RestaurantsGoodForGroups      2674\n",
       "OutdoorSeating                2674\n",
       "HasTV                         2674\n",
       "RestaurantsReservations       2674\n",
       "RestaurantsPriceRange2        2674\n",
       "stars                         2674\n",
       "review_count                  2674\n",
       "is_open                       2674\n",
       "TypeCuisine                   2674\n",
       "dtype: int64"
      ]
     },
     "execution_count": 106,
     "metadata": {},
     "output_type": "execute_result"
    }
   ],
   "source": [
    "#Change all null to False except price\n",
    "CH_merged_attribs_Cats.OutdoorSeating = CH_merged_attribs_Cats.OutdoorSeating.fillna('False')\n",
    "CH_merged_attribs_Cats.BusinessAcceptsCreditCards = CH_merged_attribs_Cats.BusinessAcceptsCreditCards.fillna('False')\n",
    "CH_merged_attribs_Cats.RestaurantsDelivery = CH_merged_attribs_Cats.RestaurantsDelivery.fillna('False')\n",
    "CH_merged_attribs_Cats.RestaurantsReservations = CH_merged_attribs_Cats.RestaurantsReservations.fillna('False')\n",
    "CH_merged_attribs_Cats.RestaurantsGoodForGroups = CH_merged_attribs_Cats.RestaurantsGoodForGroups.fillna('False')\n",
    "CH_merged_attribs_Cats.RestaurantsPriceRange2 = CH_merged_attribs_Cats.RestaurantsPriceRange2.fillna('False')\n",
    "CH_merged_attribs_Cats.GoodForKids = CH_merged_attribs_Cats.GoodForKids.fillna('False')\n",
    "CH_merged_attribs_Cats.HasTV = CH_merged_attribs_Cats.HasTV.fillna('False')\n",
    "CH_merged_attribs_Cats.WiFi = CH_merged_attribs_Cats.WiFi.fillna('False')\n",
    "CH_merged_attribs_Cats.Alcohol = CH_merged_attribs_Cats.Alcohol.fillna('False')\n",
    "CH_merged_attribs_Cats.count()"
   ]
  },
  {
   "cell_type": "code",
   "execution_count": 107,
   "metadata": {},
   "outputs": [],
   "source": [
    "#Change WiFi to True and False\n",
    "CH_merged_attribs_Cats = CH_merged_attribs_Cats.replace(to_replace = \"'no'\", value = \"False\")\n",
    "CH_merged_attribs_Cats = CH_merged_attribs_Cats.replace(to_replace = \"u'no'\", value = \"False\")\n",
    "CH_merged_attribs_Cats = CH_merged_attribs_Cats.replace(to_replace = \"u'free'\", value = \"True\")\n",
    "CH_merged_attribs_Cats = CH_merged_attribs_Cats.replace(to_replace = \"'free'\", value = \"True\")\n",
    "CH_merged_attribs_Cats = CH_merged_attribs_Cats.replace(to_replace = \"'paid'\", value = \"True\")\n",
    "CH_merged_attribs_Cats = CH_merged_attribs_Cats.replace(to_replace = \"u'paid'\", value = \"True\")\n",
    "CH_merged_attribs_Cats = CH_merged_attribs_Cats.replace(to_replace = \"None\", value = \"False\")"
   ]
  },
  {
   "cell_type": "code",
   "execution_count": 108,
   "metadata": {},
   "outputs": [
    {
     "data": {
      "text/html": [
       "<div>\n",
       "<style scoped>\n",
       "    .dataframe tbody tr th:only-of-type {\n",
       "        vertical-align: middle;\n",
       "    }\n",
       "\n",
       "    .dataframe tbody tr th {\n",
       "        vertical-align: top;\n",
       "    }\n",
       "\n",
       "    .dataframe thead th {\n",
       "        text-align: right;\n",
       "    }\n",
       "</style>\n",
       "<table border=\"1\" class=\"dataframe\">\n",
       "  <thead>\n",
       "    <tr style=\"text-align: right;\">\n",
       "      <th></th>\n",
       "      <th>business_id</th>\n",
       "      <th>GoodForKids</th>\n",
       "      <th>RestaurantsDelivery</th>\n",
       "      <th>Alcohol</th>\n",
       "      <th>WiFi</th>\n",
       "      <th>BusinessAcceptsCreditCards</th>\n",
       "      <th>RestaurantsGoodForGroups</th>\n",
       "      <th>OutdoorSeating</th>\n",
       "      <th>HasTV</th>\n",
       "      <th>RestaurantsReservations</th>\n",
       "      <th>RestaurantsPriceRange2</th>\n",
       "      <th>stars</th>\n",
       "      <th>review_count</th>\n",
       "      <th>is_open</th>\n",
       "      <th>TypeCuisine</th>\n",
       "    </tr>\n",
       "  </thead>\n",
       "  <tbody>\n",
       "    <tr>\n",
       "      <td>0</td>\n",
       "      <td>gnKjwL_1w79qoiV3IC_xQQ</td>\n",
       "      <td>True</td>\n",
       "      <td>False</td>\n",
       "      <td>True</td>\n",
       "      <td>False</td>\n",
       "      <td>True</td>\n",
       "      <td>True</td>\n",
       "      <td>False</td>\n",
       "      <td>True</td>\n",
       "      <td>True</td>\n",
       "      <td>2</td>\n",
       "      <td>4.0</td>\n",
       "      <td>170</td>\n",
       "      <td>1</td>\n",
       "      <td>Japanese</td>\n",
       "    </tr>\n",
       "    <tr>\n",
       "      <td>1</td>\n",
       "      <td>BvYU3jvGd0TJ7IyZdfiN2Q</td>\n",
       "      <td>False</td>\n",
       "      <td>False</td>\n",
       "      <td>True</td>\n",
       "      <td>False</td>\n",
       "      <td>True</td>\n",
       "      <td>True</td>\n",
       "      <td>False</td>\n",
       "      <td>False</td>\n",
       "      <td>True</td>\n",
       "      <td>2</td>\n",
       "      <td>3.5</td>\n",
       "      <td>16</td>\n",
       "      <td>0</td>\n",
       "      <td>Italian</td>\n",
       "    </tr>\n",
       "    <tr>\n",
       "      <td>2</td>\n",
       "      <td>_J_x_RaYTqAqAuCwgRhnRQ</td>\n",
       "      <td>False</td>\n",
       "      <td>False</td>\n",
       "      <td>True</td>\n",
       "      <td>True</td>\n",
       "      <td>True</td>\n",
       "      <td>True</td>\n",
       "      <td>True</td>\n",
       "      <td>True</td>\n",
       "      <td>True</td>\n",
       "      <td>2</td>\n",
       "      <td>3.0</td>\n",
       "      <td>15</td>\n",
       "      <td>0</td>\n",
       "      <td>Mediterranean</td>\n",
       "    </tr>\n",
       "    <tr>\n",
       "      <td>3</td>\n",
       "      <td>U3kygJOTlTQFlfaZS7sQjA</td>\n",
       "      <td>True</td>\n",
       "      <td>False</td>\n",
       "      <td>True</td>\n",
       "      <td>True</td>\n",
       "      <td>True</td>\n",
       "      <td>True</td>\n",
       "      <td>True</td>\n",
       "      <td>True</td>\n",
       "      <td>True</td>\n",
       "      <td>1</td>\n",
       "      <td>4.0</td>\n",
       "      <td>380</td>\n",
       "      <td>1</td>\n",
       "      <td>American</td>\n",
       "    </tr>\n",
       "    <tr>\n",
       "      <td>4</td>\n",
       "      <td>CsLQLiRoafpJPJSkNX2h5Q</td>\n",
       "      <td>True</td>\n",
       "      <td>False</td>\n",
       "      <td>False</td>\n",
       "      <td>False</td>\n",
       "      <td>True</td>\n",
       "      <td>True</td>\n",
       "      <td>False</td>\n",
       "      <td>False</td>\n",
       "      <td>False</td>\n",
       "      <td>1</td>\n",
       "      <td>3.0</td>\n",
       "      <td>5</td>\n",
       "      <td>0</td>\n",
       "      <td>Mediterranean</td>\n",
       "    </tr>\n",
       "    <tr>\n",
       "      <td>...</td>\n",
       "      <td>...</td>\n",
       "      <td>...</td>\n",
       "      <td>...</td>\n",
       "      <td>...</td>\n",
       "      <td>...</td>\n",
       "      <td>...</td>\n",
       "      <td>...</td>\n",
       "      <td>...</td>\n",
       "      <td>...</td>\n",
       "      <td>...</td>\n",
       "      <td>...</td>\n",
       "      <td>...</td>\n",
       "      <td>...</td>\n",
       "      <td>...</td>\n",
       "      <td>...</td>\n",
       "    </tr>\n",
       "    <tr>\n",
       "      <td>2669</td>\n",
       "      <td>Ce5Y_Xl_A-QCilf5_3mkSw</td>\n",
       "      <td>False</td>\n",
       "      <td>False</td>\n",
       "      <td>False</td>\n",
       "      <td>False</td>\n",
       "      <td>False</td>\n",
       "      <td>False</td>\n",
       "      <td>False</td>\n",
       "      <td>False</td>\n",
       "      <td>False</td>\n",
       "      <td>False</td>\n",
       "      <td>4.5</td>\n",
       "      <td>6</td>\n",
       "      <td>1</td>\n",
       "      <td>American</td>\n",
       "    </tr>\n",
       "    <tr>\n",
       "      <td>2670</td>\n",
       "      <td>fLdLjrLfwWJ-hh4Uwz2zKA</td>\n",
       "      <td>True</td>\n",
       "      <td>False</td>\n",
       "      <td>True</td>\n",
       "      <td>True</td>\n",
       "      <td>True</td>\n",
       "      <td>True</td>\n",
       "      <td>True</td>\n",
       "      <td>True</td>\n",
       "      <td>True</td>\n",
       "      <td>2</td>\n",
       "      <td>4.5</td>\n",
       "      <td>45</td>\n",
       "      <td>1</td>\n",
       "      <td>American</td>\n",
       "    </tr>\n",
       "    <tr>\n",
       "      <td>2671</td>\n",
       "      <td>NPFsOePej-_kfNsDf-SjpQ</td>\n",
       "      <td>False</td>\n",
       "      <td>False</td>\n",
       "      <td>False</td>\n",
       "      <td>False</td>\n",
       "      <td>False</td>\n",
       "      <td>False</td>\n",
       "      <td>False</td>\n",
       "      <td>False</td>\n",
       "      <td>False</td>\n",
       "      <td>False</td>\n",
       "      <td>4.5</td>\n",
       "      <td>5</td>\n",
       "      <td>1</td>\n",
       "      <td>Chinese</td>\n",
       "    </tr>\n",
       "    <tr>\n",
       "      <td>2672</td>\n",
       "      <td>dJXFp02urBN7pMd5329D_g</td>\n",
       "      <td>False</td>\n",
       "      <td>True</td>\n",
       "      <td>True</td>\n",
       "      <td>True</td>\n",
       "      <td>True</td>\n",
       "      <td>True</td>\n",
       "      <td>True</td>\n",
       "      <td>True</td>\n",
       "      <td>True</td>\n",
       "      <td>2</td>\n",
       "      <td>2.5</td>\n",
       "      <td>38</td>\n",
       "      <td>1</td>\n",
       "      <td>American</td>\n",
       "    </tr>\n",
       "    <tr>\n",
       "      <td>2673</td>\n",
       "      <td>UT22ExffDZjB1tzBDwSWfA</td>\n",
       "      <td>True</td>\n",
       "      <td>False</td>\n",
       "      <td>True</td>\n",
       "      <td>True</td>\n",
       "      <td>True</td>\n",
       "      <td>True</td>\n",
       "      <td>True</td>\n",
       "      <td>True</td>\n",
       "      <td>True</td>\n",
       "      <td>2</td>\n",
       "      <td>3.5</td>\n",
       "      <td>109</td>\n",
       "      <td>1</td>\n",
       "      <td>American</td>\n",
       "    </tr>\n",
       "  </tbody>\n",
       "</table>\n",
       "<p>2674 rows × 15 columns</p>\n",
       "</div>"
      ],
      "text/plain": [
       "                 business_id GoodForKids RestaurantsDelivery Alcohol   WiFi  \\\n",
       "0     gnKjwL_1w79qoiV3IC_xQQ        True               False    True  False   \n",
       "1     BvYU3jvGd0TJ7IyZdfiN2Q       False               False    True  False   \n",
       "2     _J_x_RaYTqAqAuCwgRhnRQ       False               False    True   True   \n",
       "3     U3kygJOTlTQFlfaZS7sQjA        True               False    True   True   \n",
       "4     CsLQLiRoafpJPJSkNX2h5Q        True               False   False  False   \n",
       "...                      ...         ...                 ...     ...    ...   \n",
       "2669  Ce5Y_Xl_A-QCilf5_3mkSw       False               False   False  False   \n",
       "2670  fLdLjrLfwWJ-hh4Uwz2zKA        True               False    True   True   \n",
       "2671  NPFsOePej-_kfNsDf-SjpQ       False               False   False  False   \n",
       "2672  dJXFp02urBN7pMd5329D_g       False                True    True   True   \n",
       "2673  UT22ExffDZjB1tzBDwSWfA        True               False    True   True   \n",
       "\n",
       "     BusinessAcceptsCreditCards RestaurantsGoodForGroups OutdoorSeating  \\\n",
       "0                          True                     True          False   \n",
       "1                          True                     True          False   \n",
       "2                          True                     True           True   \n",
       "3                          True                     True           True   \n",
       "4                          True                     True          False   \n",
       "...                         ...                      ...            ...   \n",
       "2669                      False                    False          False   \n",
       "2670                       True                     True           True   \n",
       "2671                      False                    False          False   \n",
       "2672                       True                     True           True   \n",
       "2673                       True                     True           True   \n",
       "\n",
       "      HasTV RestaurantsReservations RestaurantsPriceRange2  stars  \\\n",
       "0      True                    True                      2    4.0   \n",
       "1     False                    True                      2    3.5   \n",
       "2      True                    True                      2    3.0   \n",
       "3      True                    True                      1    4.0   \n",
       "4     False                   False                      1    3.0   \n",
       "...     ...                     ...                    ...    ...   \n",
       "2669  False                   False                  False    4.5   \n",
       "2670   True                    True                      2    4.5   \n",
       "2671  False                   False                  False    4.5   \n",
       "2672   True                    True                      2    2.5   \n",
       "2673   True                    True                      2    3.5   \n",
       "\n",
       "      review_count  is_open    TypeCuisine  \n",
       "0              170        1       Japanese  \n",
       "1               16        0        Italian  \n",
       "2               15        0  Mediterranean  \n",
       "3              380        1       American  \n",
       "4                5        0  Mediterranean  \n",
       "...            ...      ...            ...  \n",
       "2669             6        1       American  \n",
       "2670            45        1       American  \n",
       "2671             5        1        Chinese  \n",
       "2672            38        1       American  \n",
       "2673           109        1       American  \n",
       "\n",
       "[2674 rows x 15 columns]"
      ]
     },
     "execution_count": 108,
     "metadata": {},
     "output_type": "execute_result"
    }
   ],
   "source": [
    "#Change Alcohol to True and False\n",
    "CH_merged_attribs_Cats = CH_merged_attribs_Cats.replace(to_replace = \"u'full_bar'\", value = \"True\")\n",
    "CH_merged_attribs_Cats = CH_merged_attribs_Cats.replace(to_replace = \"u'beer_and_wine'\", value = \"True\")\n",
    "CH_merged_attribs_Cats = CH_merged_attribs_Cats.replace(to_replace = \"'full_bar'\", value = \"True\")\n",
    "CH_merged_attribs_Cats = CH_merged_attribs_Cats.replace(to_replace = \"'beer_and_wine'\", value = \"True\")\n",
    "CH_merged_attribs_Cats = CH_merged_attribs_Cats.replace(to_replace = \"u'none'\", value = \"False\")\n",
    "CH_merged_attribs_Cats = CH_merged_attribs_Cats.replace(to_replace = \"'none'\", value = \"False\")\n",
    "CH_merged_attribs_Cats = CH_merged_attribs_Cats.replace(to_replace = \"None\", value = \"False\")\n",
    "CH_merged_attribs_Cats"
   ]
  },
  {
   "cell_type": "code",
   "execution_count": 109,
   "metadata": {},
   "outputs": [],
   "source": [
    "# Change RestaurantPriceRange2 False Values to 2\n",
    "CH_merged_attribs_Cats.RestaurantsPriceRange2 = CH_merged_attribs_Cats.RestaurantsPriceRange2.replace(to_replace = \"False\", value = \"2\")"
   ]
  },
  {
   "cell_type": "code",
   "execution_count": 110,
   "metadata": {},
   "outputs": [],
   "source": [
    "#Drop Values that does not have range prices\n",
    "CH_merged_attribs_Cats = CH_merged_attribs_Cats.dropna()"
   ]
  },
  {
   "cell_type": "code",
   "execution_count": 111,
   "metadata": {},
   "outputs": [],
   "source": [
    "#Convert stars column from float to int\n",
    "CH_merged_attribs_Cats['stars'] = CH_merged_attribs_Cats['stars'] * 10\n",
    "CH_merged_attribs_Cats['stars']= CH_merged_attribs_Cats['stars'].astype(int)"
   ]
  },
  {
   "cell_type": "code",
   "execution_count": 112,
   "metadata": {},
   "outputs": [],
   "source": [
    "#Backup our DF\n",
    "CH_LabelEncoder = CH_merged_attribs_Cats"
   ]
  },
  {
   "cell_type": "code",
   "execution_count": 113,
   "metadata": {},
   "outputs": [
    {
     "data": {
      "text/plain": [
       "65.01307711313756"
      ]
     },
     "execution_count": 113,
     "metadata": {},
     "output_type": "execute_result"
    }
   ],
   "source": [
    "# variance of the star column\n",
    "CH_LabelEncoder.loc[:,\"stars\"].var()"
   ]
  },
  {
   "cell_type": "code",
   "execution_count": 114,
   "metadata": {},
   "outputs": [],
   "source": [
    "#Highly Rated Column\n",
    "CH_LabelEncoder.loc[(CH_LabelEncoder.stars <= 40) & (CH_LabelEncoder.review_count < 150), 'HighlyRated'] = 'False'\n",
    "CH_LabelEncoder.loc[(CH_LabelEncoder.stars <= 40) & (CH_LabelEncoder.review_count > 150), 'HighlyRated'] = 'False'\n",
    "CH_LabelEncoder.loc[(CH_LabelEncoder.stars >= 40) & (CH_LabelEncoder.review_count < 150), 'HighlyRated'] = 'False'\n",
    "CH_LabelEncoder.loc[(CH_LabelEncoder.stars >= 40) & (CH_LabelEncoder.review_count > 150), 'HighlyRated'] = 'True' \n",
    "CH_LabelEncoder.loc[(CH_LabelEncoder.stars < 40) & (CH_LabelEncoder.review_count <= 150), 'HighlyRated'] = 'False'\n",
    "CH_LabelEncoder.loc[(CH_LabelEncoder.stars < 40) & (CH_LabelEncoder.review_count >= 150), 'HighlyRated'] = 'False'\n",
    "CH_LabelEncoder.loc[(CH_LabelEncoder.stars > 40) & (CH_LabelEncoder.review_count <= 150), 'HighlyRated'] = 'False'\n",
    "CH_LabelEncoder.loc[(CH_LabelEncoder.stars > 40) & (CH_LabelEncoder.review_count >= 150), 'HighlyRated'] = 'True' \n",
    "CH_LabelEncoder.loc[(CH_LabelEncoder.stars == 40) & (CH_LabelEncoder.review_count == 150), 'HighlyRated'] = 'True'\n"
   ]
  },
  {
   "cell_type": "code",
   "execution_count": 115,
   "metadata": {},
   "outputs": [],
   "source": [
    "#HighlyRated as Target\n",
    "Target = CH_LabelEncoder['HighlyRated']"
   ]
  },
  {
   "cell_type": "code",
   "execution_count": 116,
   "metadata": {},
   "outputs": [],
   "source": [
    "#Drop the Business_id column\n",
    "CH_LabelEncoder = CH_LabelEncoder.drop(['business_id'], axis = 1)"
   ]
  },
  {
   "cell_type": "code",
   "execution_count": 117,
   "metadata": {},
   "outputs": [],
   "source": [
    "from sklearn.preprocessing import LabelEncoder\n",
    "le_OutdoorSeating = LabelEncoder()\n",
    "le_BusinessAcceptsCreditCards = LabelEncoder()\n",
    "le_RestaurantsDelivery = LabelEncoder()\n",
    "le_RestaurantsReservations = LabelEncoder()\n",
    "le_HasTV = LabelEncoder()\n",
    "le_RestaurantsPriceRange2 = LabelEncoder()\n",
    "le_RestaurantsGoodForGroups = LabelEncoder()\n",
    "le_WiFi = LabelEncoder()\n",
    "le_GoodForKids = LabelEncoder()\n",
    "le_Alcohol = LabelEncoder()\n",
    "le_stars = LabelEncoder()\n",
    "le_review_count = LabelEncoder()\n",
    "le_is_open = LabelEncoder()\n",
    "le_TypeCuisine = LabelEncoder()\n",
    "le_HighlyRated = LabelEncoder()"
   ]
  },
  {
   "cell_type": "code",
   "execution_count": 118,
   "metadata": {},
   "outputs": [
    {
     "data": {
      "text/html": [
       "<div>\n",
       "<style scoped>\n",
       "    .dataframe tbody tr th:only-of-type {\n",
       "        vertical-align: middle;\n",
       "    }\n",
       "\n",
       "    .dataframe tbody tr th {\n",
       "        vertical-align: top;\n",
       "    }\n",
       "\n",
       "    .dataframe thead th {\n",
       "        text-align: right;\n",
       "    }\n",
       "</style>\n",
       "<table border=\"1\" class=\"dataframe\">\n",
       "  <thead>\n",
       "    <tr style=\"text-align: right;\">\n",
       "      <th></th>\n",
       "      <th>GoodForKids</th>\n",
       "      <th>RestaurantsDelivery</th>\n",
       "      <th>Alcohol</th>\n",
       "      <th>WiFi</th>\n",
       "      <th>BusinessAcceptsCreditCards</th>\n",
       "      <th>RestaurantsGoodForGroups</th>\n",
       "      <th>OutdoorSeating</th>\n",
       "      <th>HasTV</th>\n",
       "      <th>RestaurantsReservations</th>\n",
       "      <th>RestaurantsPriceRange2</th>\n",
       "      <th>...</th>\n",
       "      <th>OutdoorSeating_New</th>\n",
       "      <th>BusinessAcceptsCreditCards_New</th>\n",
       "      <th>RestaurantsDelivery_New</th>\n",
       "      <th>RestaurantsReservations_New</th>\n",
       "      <th>HasTV_New</th>\n",
       "      <th>RestaurantsGoodForGroups_New</th>\n",
       "      <th>WiFi_New</th>\n",
       "      <th>GoodForKids_New</th>\n",
       "      <th>Alcohol_New</th>\n",
       "      <th>HighlyRated_New</th>\n",
       "    </tr>\n",
       "  </thead>\n",
       "  <tbody>\n",
       "    <tr>\n",
       "      <td>0</td>\n",
       "      <td>True</td>\n",
       "      <td>False</td>\n",
       "      <td>True</td>\n",
       "      <td>False</td>\n",
       "      <td>True</td>\n",
       "      <td>True</td>\n",
       "      <td>False</td>\n",
       "      <td>True</td>\n",
       "      <td>True</td>\n",
       "      <td>2</td>\n",
       "      <td>...</td>\n",
       "      <td>0</td>\n",
       "      <td>1</td>\n",
       "      <td>0</td>\n",
       "      <td>1</td>\n",
       "      <td>1</td>\n",
       "      <td>1</td>\n",
       "      <td>0</td>\n",
       "      <td>1</td>\n",
       "      <td>1</td>\n",
       "      <td>1</td>\n",
       "    </tr>\n",
       "    <tr>\n",
       "      <td>1</td>\n",
       "      <td>False</td>\n",
       "      <td>False</td>\n",
       "      <td>True</td>\n",
       "      <td>False</td>\n",
       "      <td>True</td>\n",
       "      <td>True</td>\n",
       "      <td>False</td>\n",
       "      <td>False</td>\n",
       "      <td>True</td>\n",
       "      <td>2</td>\n",
       "      <td>...</td>\n",
       "      <td>0</td>\n",
       "      <td>1</td>\n",
       "      <td>0</td>\n",
       "      <td>1</td>\n",
       "      <td>0</td>\n",
       "      <td>1</td>\n",
       "      <td>0</td>\n",
       "      <td>0</td>\n",
       "      <td>1</td>\n",
       "      <td>0</td>\n",
       "    </tr>\n",
       "    <tr>\n",
       "      <td>2</td>\n",
       "      <td>False</td>\n",
       "      <td>False</td>\n",
       "      <td>True</td>\n",
       "      <td>True</td>\n",
       "      <td>True</td>\n",
       "      <td>True</td>\n",
       "      <td>True</td>\n",
       "      <td>True</td>\n",
       "      <td>True</td>\n",
       "      <td>2</td>\n",
       "      <td>...</td>\n",
       "      <td>1</td>\n",
       "      <td>1</td>\n",
       "      <td>0</td>\n",
       "      <td>1</td>\n",
       "      <td>1</td>\n",
       "      <td>1</td>\n",
       "      <td>1</td>\n",
       "      <td>0</td>\n",
       "      <td>1</td>\n",
       "      <td>0</td>\n",
       "    </tr>\n",
       "    <tr>\n",
       "      <td>3</td>\n",
       "      <td>True</td>\n",
       "      <td>False</td>\n",
       "      <td>True</td>\n",
       "      <td>True</td>\n",
       "      <td>True</td>\n",
       "      <td>True</td>\n",
       "      <td>True</td>\n",
       "      <td>True</td>\n",
       "      <td>True</td>\n",
       "      <td>1</td>\n",
       "      <td>...</td>\n",
       "      <td>1</td>\n",
       "      <td>1</td>\n",
       "      <td>0</td>\n",
       "      <td>1</td>\n",
       "      <td>1</td>\n",
       "      <td>1</td>\n",
       "      <td>1</td>\n",
       "      <td>1</td>\n",
       "      <td>1</td>\n",
       "      <td>1</td>\n",
       "    </tr>\n",
       "    <tr>\n",
       "      <td>4</td>\n",
       "      <td>True</td>\n",
       "      <td>False</td>\n",
       "      <td>False</td>\n",
       "      <td>False</td>\n",
       "      <td>True</td>\n",
       "      <td>True</td>\n",
       "      <td>False</td>\n",
       "      <td>False</td>\n",
       "      <td>False</td>\n",
       "      <td>1</td>\n",
       "      <td>...</td>\n",
       "      <td>0</td>\n",
       "      <td>1</td>\n",
       "      <td>0</td>\n",
       "      <td>0</td>\n",
       "      <td>0</td>\n",
       "      <td>1</td>\n",
       "      <td>0</td>\n",
       "      <td>1</td>\n",
       "      <td>0</td>\n",
       "      <td>0</td>\n",
       "    </tr>\n",
       "  </tbody>\n",
       "</table>\n",
       "<p>5 rows × 25 columns</p>\n",
       "</div>"
      ],
      "text/plain": [
       "  GoodForKids RestaurantsDelivery Alcohol   WiFi BusinessAcceptsCreditCards  \\\n",
       "0        True               False    True  False                       True   \n",
       "1       False               False    True  False                       True   \n",
       "2       False               False    True   True                       True   \n",
       "3        True               False    True   True                       True   \n",
       "4        True               False   False  False                       True   \n",
       "\n",
       "  RestaurantsGoodForGroups OutdoorSeating  HasTV RestaurantsReservations  \\\n",
       "0                     True          False   True                    True   \n",
       "1                     True          False  False                    True   \n",
       "2                     True           True   True                    True   \n",
       "3                     True           True   True                    True   \n",
       "4                     True          False  False                   False   \n",
       "\n",
       "  RestaurantsPriceRange2  ...  OutdoorSeating_New  \\\n",
       "0                      2  ...                   0   \n",
       "1                      2  ...                   0   \n",
       "2                      2  ...                   1   \n",
       "3                      1  ...                   1   \n",
       "4                      1  ...                   0   \n",
       "\n",
       "   BusinessAcceptsCreditCards_New  RestaurantsDelivery_New  \\\n",
       "0                               1                        0   \n",
       "1                               1                        0   \n",
       "2                               1                        0   \n",
       "3                               1                        0   \n",
       "4                               1                        0   \n",
       "\n",
       "  RestaurantsReservations_New HasTV_New  RestaurantsGoodForGroups_New  \\\n",
       "0                           1         1                             1   \n",
       "1                           1         0                             1   \n",
       "2                           1         1                             1   \n",
       "3                           1         1                             1   \n",
       "4                           0         0                             1   \n",
       "\n",
       "   WiFi_New  GoodForKids_New  Alcohol_New  HighlyRated_New  \n",
       "0         0                1            1                1  \n",
       "1         0                0            1                0  \n",
       "2         1                0            1                0  \n",
       "3         1                1            1                1  \n",
       "4         0                1            0                0  \n",
       "\n",
       "[5 rows x 25 columns]"
      ]
     },
     "execution_count": 118,
     "metadata": {},
     "output_type": "execute_result"
    }
   ],
   "source": [
    "#Create new columns on our dataset using he new le values\n",
    "CH_LabelEncoder['OutdoorSeating_New'] = le_OutdoorSeating.fit_transform(CH_LabelEncoder['OutdoorSeating'])\n",
    "CH_LabelEncoder['BusinessAcceptsCreditCards_New'] = le_BusinessAcceptsCreditCards.fit_transform(CH_LabelEncoder['BusinessAcceptsCreditCards'])\n",
    "CH_LabelEncoder['RestaurantsDelivery_New'] = le_RestaurantsDelivery.fit_transform(CH_LabelEncoder['RestaurantsDelivery'])\n",
    "CH_LabelEncoder['RestaurantsReservations_New'] = le_RestaurantsReservations.fit_transform(CH_LabelEncoder['RestaurantsReservations'])\n",
    "CH_LabelEncoder['HasTV_New'] = le_HasTV.fit_transform(CH_LabelEncoder['HasTV'])\n",
    "CH_LabelEncoder['RestaurantsGoodForGroups_New'] = le_RestaurantsGoodForGroups.fit_transform(CH_LabelEncoder['RestaurantsGoodForGroups'])\n",
    "CH_LabelEncoder['WiFi_New'] = le_WiFi.fit_transform(CH_LabelEncoder['WiFi'])\n",
    "CH_LabelEncoder['GoodForKids_New'] = le_GoodForKids.fit_transform(CH_LabelEncoder['GoodForKids'])\n",
    "CH_LabelEncoder['Alcohol_New'] = le_Alcohol.fit_transform(CH_LabelEncoder['Alcohol'])\n",
    "#CH_LabelEncoder['TypeCuisine_New'] = le_TypeCusine.fit_transform(CH_LabelEncoder['TypeCuisine'])\n",
    "CH_LabelEncoder['HighlyRated_New'] = le_HighlyRated.fit_transform(CH_LabelEncoder['HighlyRated'])\n",
    "CH_LabelEncoder.head()\n"
   ]
  },
  {
   "cell_type": "code",
   "execution_count": 119,
   "metadata": {},
   "outputs": [],
   "source": [
    "#Create dummy variables for TypeCusine\n",
    "cuisine_dummies = pd.get_dummies(CH_LabelEncoder.TypeCuisine, prefix='Cuisine')\n",
    "CH_LabelEncoder = pd.concat([CH_LabelEncoder, cuisine_dummies], axis=1)"
   ]
  },
  {
   "cell_type": "code",
   "execution_count": 120,
   "metadata": {},
   "outputs": [
    {
     "data": {
      "text/html": [
       "<div>\n",
       "<style scoped>\n",
       "    .dataframe tbody tr th:only-of-type {\n",
       "        vertical-align: middle;\n",
       "    }\n",
       "\n",
       "    .dataframe tbody tr th {\n",
       "        vertical-align: top;\n",
       "    }\n",
       "\n",
       "    .dataframe thead th {\n",
       "        text-align: right;\n",
       "    }\n",
       "</style>\n",
       "<table border=\"1\" class=\"dataframe\">\n",
       "  <thead>\n",
       "    <tr style=\"text-align: right;\">\n",
       "      <th></th>\n",
       "      <th>RestaurantsPriceRange2</th>\n",
       "      <th>stars</th>\n",
       "      <th>review_count</th>\n",
       "      <th>is_open</th>\n",
       "      <th>OutdoorSeating_New</th>\n",
       "      <th>BusinessAcceptsCreditCards_New</th>\n",
       "      <th>RestaurantsDelivery_New</th>\n",
       "      <th>RestaurantsReservations_New</th>\n",
       "      <th>HasTV_New</th>\n",
       "      <th>RestaurantsGoodForGroups_New</th>\n",
       "      <th>...</th>\n",
       "      <th>Cuisine_Greek</th>\n",
       "      <th>Cuisine_Hawaiian</th>\n",
       "      <th>Cuisine_Indian</th>\n",
       "      <th>Cuisine_Italian</th>\n",
       "      <th>Cuisine_Japanese</th>\n",
       "      <th>Cuisine_Korean</th>\n",
       "      <th>Cuisine_LatinAmerican</th>\n",
       "      <th>Cuisine_Mediterranean</th>\n",
       "      <th>Cuisine_Mexican</th>\n",
       "      <th>Cuisine_Vietnamese</th>\n",
       "    </tr>\n",
       "  </thead>\n",
       "  <tbody>\n",
       "    <tr>\n",
       "      <td>0</td>\n",
       "      <td>2</td>\n",
       "      <td>40</td>\n",
       "      <td>170</td>\n",
       "      <td>1</td>\n",
       "      <td>0</td>\n",
       "      <td>1</td>\n",
       "      <td>0</td>\n",
       "      <td>1</td>\n",
       "      <td>1</td>\n",
       "      <td>1</td>\n",
       "      <td>...</td>\n",
       "      <td>0</td>\n",
       "      <td>0</td>\n",
       "      <td>0</td>\n",
       "      <td>0</td>\n",
       "      <td>1</td>\n",
       "      <td>0</td>\n",
       "      <td>0</td>\n",
       "      <td>0</td>\n",
       "      <td>0</td>\n",
       "      <td>0</td>\n",
       "    </tr>\n",
       "    <tr>\n",
       "      <td>1</td>\n",
       "      <td>2</td>\n",
       "      <td>35</td>\n",
       "      <td>16</td>\n",
       "      <td>0</td>\n",
       "      <td>0</td>\n",
       "      <td>1</td>\n",
       "      <td>0</td>\n",
       "      <td>1</td>\n",
       "      <td>0</td>\n",
       "      <td>1</td>\n",
       "      <td>...</td>\n",
       "      <td>0</td>\n",
       "      <td>0</td>\n",
       "      <td>0</td>\n",
       "      <td>1</td>\n",
       "      <td>0</td>\n",
       "      <td>0</td>\n",
       "      <td>0</td>\n",
       "      <td>0</td>\n",
       "      <td>0</td>\n",
       "      <td>0</td>\n",
       "    </tr>\n",
       "    <tr>\n",
       "      <td>2</td>\n",
       "      <td>2</td>\n",
       "      <td>30</td>\n",
       "      <td>15</td>\n",
       "      <td>0</td>\n",
       "      <td>1</td>\n",
       "      <td>1</td>\n",
       "      <td>0</td>\n",
       "      <td>1</td>\n",
       "      <td>1</td>\n",
       "      <td>1</td>\n",
       "      <td>...</td>\n",
       "      <td>0</td>\n",
       "      <td>0</td>\n",
       "      <td>0</td>\n",
       "      <td>0</td>\n",
       "      <td>0</td>\n",
       "      <td>0</td>\n",
       "      <td>0</td>\n",
       "      <td>1</td>\n",
       "      <td>0</td>\n",
       "      <td>0</td>\n",
       "    </tr>\n",
       "    <tr>\n",
       "      <td>3</td>\n",
       "      <td>1</td>\n",
       "      <td>40</td>\n",
       "      <td>380</td>\n",
       "      <td>1</td>\n",
       "      <td>1</td>\n",
       "      <td>1</td>\n",
       "      <td>0</td>\n",
       "      <td>1</td>\n",
       "      <td>1</td>\n",
       "      <td>1</td>\n",
       "      <td>...</td>\n",
       "      <td>0</td>\n",
       "      <td>0</td>\n",
       "      <td>0</td>\n",
       "      <td>0</td>\n",
       "      <td>0</td>\n",
       "      <td>0</td>\n",
       "      <td>0</td>\n",
       "      <td>0</td>\n",
       "      <td>0</td>\n",
       "      <td>0</td>\n",
       "    </tr>\n",
       "    <tr>\n",
       "      <td>4</td>\n",
       "      <td>1</td>\n",
       "      <td>30</td>\n",
       "      <td>5</td>\n",
       "      <td>0</td>\n",
       "      <td>0</td>\n",
       "      <td>1</td>\n",
       "      <td>0</td>\n",
       "      <td>0</td>\n",
       "      <td>0</td>\n",
       "      <td>1</td>\n",
       "      <td>...</td>\n",
       "      <td>0</td>\n",
       "      <td>0</td>\n",
       "      <td>0</td>\n",
       "      <td>0</td>\n",
       "      <td>0</td>\n",
       "      <td>0</td>\n",
       "      <td>0</td>\n",
       "      <td>1</td>\n",
       "      <td>0</td>\n",
       "      <td>0</td>\n",
       "    </tr>\n",
       "    <tr>\n",
       "      <td>...</td>\n",
       "      <td>...</td>\n",
       "      <td>...</td>\n",
       "      <td>...</td>\n",
       "      <td>...</td>\n",
       "      <td>...</td>\n",
       "      <td>...</td>\n",
       "      <td>...</td>\n",
       "      <td>...</td>\n",
       "      <td>...</td>\n",
       "      <td>...</td>\n",
       "      <td>...</td>\n",
       "      <td>...</td>\n",
       "      <td>...</td>\n",
       "      <td>...</td>\n",
       "      <td>...</td>\n",
       "      <td>...</td>\n",
       "      <td>...</td>\n",
       "      <td>...</td>\n",
       "      <td>...</td>\n",
       "      <td>...</td>\n",
       "      <td>...</td>\n",
       "    </tr>\n",
       "    <tr>\n",
       "      <td>2669</td>\n",
       "      <td>2</td>\n",
       "      <td>45</td>\n",
       "      <td>6</td>\n",
       "      <td>1</td>\n",
       "      <td>0</td>\n",
       "      <td>0</td>\n",
       "      <td>0</td>\n",
       "      <td>0</td>\n",
       "      <td>0</td>\n",
       "      <td>0</td>\n",
       "      <td>...</td>\n",
       "      <td>0</td>\n",
       "      <td>0</td>\n",
       "      <td>0</td>\n",
       "      <td>0</td>\n",
       "      <td>0</td>\n",
       "      <td>0</td>\n",
       "      <td>0</td>\n",
       "      <td>0</td>\n",
       "      <td>0</td>\n",
       "      <td>0</td>\n",
       "    </tr>\n",
       "    <tr>\n",
       "      <td>2670</td>\n",
       "      <td>2</td>\n",
       "      <td>45</td>\n",
       "      <td>45</td>\n",
       "      <td>1</td>\n",
       "      <td>1</td>\n",
       "      <td>1</td>\n",
       "      <td>0</td>\n",
       "      <td>1</td>\n",
       "      <td>1</td>\n",
       "      <td>1</td>\n",
       "      <td>...</td>\n",
       "      <td>0</td>\n",
       "      <td>0</td>\n",
       "      <td>0</td>\n",
       "      <td>0</td>\n",
       "      <td>0</td>\n",
       "      <td>0</td>\n",
       "      <td>0</td>\n",
       "      <td>0</td>\n",
       "      <td>0</td>\n",
       "      <td>0</td>\n",
       "    </tr>\n",
       "    <tr>\n",
       "      <td>2671</td>\n",
       "      <td>2</td>\n",
       "      <td>45</td>\n",
       "      <td>5</td>\n",
       "      <td>1</td>\n",
       "      <td>0</td>\n",
       "      <td>0</td>\n",
       "      <td>0</td>\n",
       "      <td>0</td>\n",
       "      <td>0</td>\n",
       "      <td>0</td>\n",
       "      <td>...</td>\n",
       "      <td>0</td>\n",
       "      <td>0</td>\n",
       "      <td>0</td>\n",
       "      <td>0</td>\n",
       "      <td>0</td>\n",
       "      <td>0</td>\n",
       "      <td>0</td>\n",
       "      <td>0</td>\n",
       "      <td>0</td>\n",
       "      <td>0</td>\n",
       "    </tr>\n",
       "    <tr>\n",
       "      <td>2672</td>\n",
       "      <td>2</td>\n",
       "      <td>25</td>\n",
       "      <td>38</td>\n",
       "      <td>1</td>\n",
       "      <td>1</td>\n",
       "      <td>1</td>\n",
       "      <td>1</td>\n",
       "      <td>1</td>\n",
       "      <td>1</td>\n",
       "      <td>1</td>\n",
       "      <td>...</td>\n",
       "      <td>0</td>\n",
       "      <td>0</td>\n",
       "      <td>0</td>\n",
       "      <td>0</td>\n",
       "      <td>0</td>\n",
       "      <td>0</td>\n",
       "      <td>0</td>\n",
       "      <td>0</td>\n",
       "      <td>0</td>\n",
       "      <td>0</td>\n",
       "    </tr>\n",
       "    <tr>\n",
       "      <td>2673</td>\n",
       "      <td>2</td>\n",
       "      <td>35</td>\n",
       "      <td>109</td>\n",
       "      <td>1</td>\n",
       "      <td>1</td>\n",
       "      <td>1</td>\n",
       "      <td>0</td>\n",
       "      <td>1</td>\n",
       "      <td>1</td>\n",
       "      <td>1</td>\n",
       "      <td>...</td>\n",
       "      <td>0</td>\n",
       "      <td>0</td>\n",
       "      <td>0</td>\n",
       "      <td>0</td>\n",
       "      <td>0</td>\n",
       "      <td>0</td>\n",
       "      <td>0</td>\n",
       "      <td>0</td>\n",
       "      <td>0</td>\n",
       "      <td>0</td>\n",
       "    </tr>\n",
       "  </tbody>\n",
       "</table>\n",
       "<p>2674 rows × 31 columns</p>\n",
       "</div>"
      ],
      "text/plain": [
       "     RestaurantsPriceRange2  stars  review_count  is_open  OutdoorSeating_New  \\\n",
       "0                         2     40           170        1                   0   \n",
       "1                         2     35            16        0                   0   \n",
       "2                         2     30            15        0                   1   \n",
       "3                         1     40           380        1                   1   \n",
       "4                         1     30             5        0                   0   \n",
       "...                     ...    ...           ...      ...                 ...   \n",
       "2669                      2     45             6        1                   0   \n",
       "2670                      2     45            45        1                   1   \n",
       "2671                      2     45             5        1                   0   \n",
       "2672                      2     25            38        1                   1   \n",
       "2673                      2     35           109        1                   1   \n",
       "\n",
       "      BusinessAcceptsCreditCards_New  RestaurantsDelivery_New  \\\n",
       "0                                  1                        0   \n",
       "1                                  1                        0   \n",
       "2                                  1                        0   \n",
       "3                                  1                        0   \n",
       "4                                  1                        0   \n",
       "...                              ...                      ...   \n",
       "2669                               0                        0   \n",
       "2670                               1                        0   \n",
       "2671                               0                        0   \n",
       "2672                               1                        1   \n",
       "2673                               1                        0   \n",
       "\n",
       "      RestaurantsReservations_New  HasTV_New  RestaurantsGoodForGroups_New  \\\n",
       "0                               1          1                             1   \n",
       "1                               1          0                             1   \n",
       "2                               1          1                             1   \n",
       "3                               1          1                             1   \n",
       "4                               0          0                             1   \n",
       "...                           ...        ...                           ...   \n",
       "2669                            0          0                             0   \n",
       "2670                            1          1                             1   \n",
       "2671                            0          0                             0   \n",
       "2672                            1          1                             1   \n",
       "2673                            1          1                             1   \n",
       "\n",
       "      ...  Cuisine_Greek  Cuisine_Hawaiian  Cuisine_Indian  Cuisine_Italian  \\\n",
       "0     ...              0                 0               0                0   \n",
       "1     ...              0                 0               0                1   \n",
       "2     ...              0                 0               0                0   \n",
       "3     ...              0                 0               0                0   \n",
       "4     ...              0                 0               0                0   \n",
       "...   ...            ...               ...             ...              ...   \n",
       "2669  ...              0                 0               0                0   \n",
       "2670  ...              0                 0               0                0   \n",
       "2671  ...              0                 0               0                0   \n",
       "2672  ...              0                 0               0                0   \n",
       "2673  ...              0                 0               0                0   \n",
       "\n",
       "      Cuisine_Japanese  Cuisine_Korean  Cuisine_LatinAmerican  \\\n",
       "0                    1               0                      0   \n",
       "1                    0               0                      0   \n",
       "2                    0               0                      0   \n",
       "3                    0               0                      0   \n",
       "4                    0               0                      0   \n",
       "...                ...             ...                    ...   \n",
       "2669                 0               0                      0   \n",
       "2670                 0               0                      0   \n",
       "2671                 0               0                      0   \n",
       "2672                 0               0                      0   \n",
       "2673                 0               0                      0   \n",
       "\n",
       "      Cuisine_Mediterranean  Cuisine_Mexican  Cuisine_Vietnamese  \n",
       "0                         0                0                   0  \n",
       "1                         0                0                   0  \n",
       "2                         1                0                   0  \n",
       "3                         0                0                   0  \n",
       "4                         1                0                   0  \n",
       "...                     ...              ...                 ...  \n",
       "2669                      0                0                   0  \n",
       "2670                      0                0                   0  \n",
       "2671                      0                0                   0  \n",
       "2672                      0                0                   0  \n",
       "2673                      0                0                   0  \n",
       "\n",
       "[2674 rows x 31 columns]"
      ]
     },
     "execution_count": 120,
     "metadata": {},
     "output_type": "execute_result"
    }
   ],
   "source": [
    "#Drop the original columns in favor of the numerical columns\n",
    "CH_LabelEncoder = CH_LabelEncoder.drop(['OutdoorSeating', 'BusinessAcceptsCreditCards', 'RestaurantsDelivery', 'RestaurantsReservations', 'HasTV', 'RestaurantsGoodForGroups', 'WiFi', 'GoodForKids', 'Alcohol', 'TypeCuisine', 'HighlyRated'], axis=1)\n",
    "CH_LabelEncoder"
   ]
  },
  {
   "cell_type": "code",
   "execution_count": 121,
   "metadata": {},
   "outputs": [
    {
     "data": {
      "text/plain": [
       "Index(['RestaurantsPriceRange2', 'stars', 'review_count', 'is_open',\n",
       "       'OutdoorSeating_New', 'BusinessAcceptsCreditCards_New',\n",
       "       'RestaurantsDelivery_New', 'RestaurantsReservations_New', 'HasTV_New',\n",
       "       'RestaurantsGoodForGroups_New', 'WiFi_New', 'GoodForKids_New',\n",
       "       'Alcohol_New', 'HighlyRated_New', 'Cuisine_African', 'Cuisine_American',\n",
       "       'Cuisine_Asian', 'Cuisine_Caribbean', 'Cuisine_Chinese',\n",
       "       'Cuisine_European', 'Cuisine_French', 'Cuisine_Greek',\n",
       "       'Cuisine_Hawaiian', 'Cuisine_Indian', 'Cuisine_Italian',\n",
       "       'Cuisine_Japanese', 'Cuisine_Korean', 'Cuisine_LatinAmerican',\n",
       "       'Cuisine_Mediterranean', 'Cuisine_Mexican', 'Cuisine_Vietnamese'],\n",
       "      dtype='object')"
      ]
     },
     "execution_count": 121,
     "metadata": {},
     "output_type": "execute_result"
    }
   ],
   "source": [
    "CH_LabelEncoder.columns"
   ]
  },
  {
   "cell_type": "code",
   "execution_count": 122,
   "metadata": {},
   "outputs": [],
   "source": [
    "#Make a copy before dropping HighlyRated_New, stars and review_count\n",
    "CH_Complete = CH_LabelEncoder\n",
    "CH_LabelEncoder = CH_LabelEncoder.drop(['HighlyRated_New'], axis=1)\n",
    "CH_LabelEncoder = CH_LabelEncoder.drop(['stars'], axis=1)\n",
    "CH_LabelEncoder = CH_LabelEncoder.drop(['review_count'], axis=1)\n",
    "CH_LabelEncoder = CH_LabelEncoder.drop(['is_open'], axis=1)"
   ]
  },
  {
   "cell_type": "code",
   "execution_count": 123,
   "metadata": {},
   "outputs": [
    {
     "data": {
      "text/plain": [
       "Index(['RestaurantsPriceRange2', 'OutdoorSeating_New',\n",
       "       'BusinessAcceptsCreditCards_New', 'RestaurantsDelivery_New',\n",
       "       'RestaurantsReservations_New', 'HasTV_New',\n",
       "       'RestaurantsGoodForGroups_New', 'WiFi_New', 'GoodForKids_New',\n",
       "       'Alcohol_New', 'Cuisine_African', 'Cuisine_American', 'Cuisine_Asian',\n",
       "       'Cuisine_Caribbean', 'Cuisine_Chinese', 'Cuisine_European',\n",
       "       'Cuisine_French', 'Cuisine_Greek', 'Cuisine_Hawaiian', 'Cuisine_Indian',\n",
       "       'Cuisine_Italian', 'Cuisine_Japanese', 'Cuisine_Korean',\n",
       "       'Cuisine_LatinAmerican', 'Cuisine_Mediterranean', 'Cuisine_Mexican',\n",
       "       'Cuisine_Vietnamese'],\n",
       "      dtype='object')"
      ]
     },
     "execution_count": 123,
     "metadata": {},
     "output_type": "execute_result"
    }
   ],
   "source": [
    "CH_LabelEncoder.columns"
   ]
  },
  {
   "cell_type": "code",
   "execution_count": 124,
   "metadata": {},
   "outputs": [
    {
     "data": {
      "text/html": [
       "<div>\n",
       "<style scoped>\n",
       "    .dataframe tbody tr th:only-of-type {\n",
       "        vertical-align: middle;\n",
       "    }\n",
       "\n",
       "    .dataframe tbody tr th {\n",
       "        vertical-align: top;\n",
       "    }\n",
       "\n",
       "    .dataframe thead th {\n",
       "        text-align: right;\n",
       "    }\n",
       "</style>\n",
       "<table border=\"1\" class=\"dataframe\">\n",
       "  <thead>\n",
       "    <tr style=\"text-align: right;\">\n",
       "      <th></th>\n",
       "      <th>RestaurantsPriceRange2</th>\n",
       "      <th>OutdoorSeating_New</th>\n",
       "      <th>BusinessAcceptsCreditCards_New</th>\n",
       "      <th>RestaurantsDelivery_New</th>\n",
       "      <th>RestaurantsReservations_New</th>\n",
       "      <th>HasTV_New</th>\n",
       "      <th>RestaurantsGoodForGroups_New</th>\n",
       "      <th>WiFi_New</th>\n",
       "      <th>GoodForKids_New</th>\n",
       "      <th>Alcohol_New</th>\n",
       "      <th>...</th>\n",
       "      <th>Cuisine_Greek</th>\n",
       "      <th>Cuisine_Hawaiian</th>\n",
       "      <th>Cuisine_Indian</th>\n",
       "      <th>Cuisine_Italian</th>\n",
       "      <th>Cuisine_Japanese</th>\n",
       "      <th>Cuisine_Korean</th>\n",
       "      <th>Cuisine_LatinAmerican</th>\n",
       "      <th>Cuisine_Mediterranean</th>\n",
       "      <th>Cuisine_Mexican</th>\n",
       "      <th>Cuisine_Vietnamese</th>\n",
       "    </tr>\n",
       "  </thead>\n",
       "  <tbody>\n",
       "    <tr>\n",
       "      <td>0</td>\n",
       "      <td>2</td>\n",
       "      <td>0</td>\n",
       "      <td>1</td>\n",
       "      <td>0</td>\n",
       "      <td>1</td>\n",
       "      <td>1</td>\n",
       "      <td>1</td>\n",
       "      <td>0</td>\n",
       "      <td>1</td>\n",
       "      <td>1</td>\n",
       "      <td>...</td>\n",
       "      <td>0</td>\n",
       "      <td>0</td>\n",
       "      <td>0</td>\n",
       "      <td>0</td>\n",
       "      <td>1</td>\n",
       "      <td>0</td>\n",
       "      <td>0</td>\n",
       "      <td>0</td>\n",
       "      <td>0</td>\n",
       "      <td>0</td>\n",
       "    </tr>\n",
       "    <tr>\n",
       "      <td>1</td>\n",
       "      <td>2</td>\n",
       "      <td>0</td>\n",
       "      <td>1</td>\n",
       "      <td>0</td>\n",
       "      <td>1</td>\n",
       "      <td>0</td>\n",
       "      <td>1</td>\n",
       "      <td>0</td>\n",
       "      <td>0</td>\n",
       "      <td>1</td>\n",
       "      <td>...</td>\n",
       "      <td>0</td>\n",
       "      <td>0</td>\n",
       "      <td>0</td>\n",
       "      <td>1</td>\n",
       "      <td>0</td>\n",
       "      <td>0</td>\n",
       "      <td>0</td>\n",
       "      <td>0</td>\n",
       "      <td>0</td>\n",
       "      <td>0</td>\n",
       "    </tr>\n",
       "    <tr>\n",
       "      <td>2</td>\n",
       "      <td>2</td>\n",
       "      <td>1</td>\n",
       "      <td>1</td>\n",
       "      <td>0</td>\n",
       "      <td>1</td>\n",
       "      <td>1</td>\n",
       "      <td>1</td>\n",
       "      <td>1</td>\n",
       "      <td>0</td>\n",
       "      <td>1</td>\n",
       "      <td>...</td>\n",
       "      <td>0</td>\n",
       "      <td>0</td>\n",
       "      <td>0</td>\n",
       "      <td>0</td>\n",
       "      <td>0</td>\n",
       "      <td>0</td>\n",
       "      <td>0</td>\n",
       "      <td>1</td>\n",
       "      <td>0</td>\n",
       "      <td>0</td>\n",
       "    </tr>\n",
       "    <tr>\n",
       "      <td>3</td>\n",
       "      <td>1</td>\n",
       "      <td>1</td>\n",
       "      <td>1</td>\n",
       "      <td>0</td>\n",
       "      <td>1</td>\n",
       "      <td>1</td>\n",
       "      <td>1</td>\n",
       "      <td>1</td>\n",
       "      <td>1</td>\n",
       "      <td>1</td>\n",
       "      <td>...</td>\n",
       "      <td>0</td>\n",
       "      <td>0</td>\n",
       "      <td>0</td>\n",
       "      <td>0</td>\n",
       "      <td>0</td>\n",
       "      <td>0</td>\n",
       "      <td>0</td>\n",
       "      <td>0</td>\n",
       "      <td>0</td>\n",
       "      <td>0</td>\n",
       "    </tr>\n",
       "    <tr>\n",
       "      <td>4</td>\n",
       "      <td>1</td>\n",
       "      <td>0</td>\n",
       "      <td>1</td>\n",
       "      <td>0</td>\n",
       "      <td>0</td>\n",
       "      <td>0</td>\n",
       "      <td>1</td>\n",
       "      <td>0</td>\n",
       "      <td>1</td>\n",
       "      <td>0</td>\n",
       "      <td>...</td>\n",
       "      <td>0</td>\n",
       "      <td>0</td>\n",
       "      <td>0</td>\n",
       "      <td>0</td>\n",
       "      <td>0</td>\n",
       "      <td>0</td>\n",
       "      <td>0</td>\n",
       "      <td>1</td>\n",
       "      <td>0</td>\n",
       "      <td>0</td>\n",
       "    </tr>\n",
       "  </tbody>\n",
       "</table>\n",
       "<p>5 rows × 27 columns</p>\n",
       "</div>"
      ],
      "text/plain": [
       "  RestaurantsPriceRange2  OutdoorSeating_New  BusinessAcceptsCreditCards_New  \\\n",
       "0                      2                   0                               1   \n",
       "1                      2                   0                               1   \n",
       "2                      2                   1                               1   \n",
       "3                      1                   1                               1   \n",
       "4                      1                   0                               1   \n",
       "\n",
       "   RestaurantsDelivery_New  RestaurantsReservations_New  HasTV_New  \\\n",
       "0                        0                            1          1   \n",
       "1                        0                            1          0   \n",
       "2                        0                            1          1   \n",
       "3                        0                            1          1   \n",
       "4                        0                            0          0   \n",
       "\n",
       "   RestaurantsGoodForGroups_New  WiFi_New  GoodForKids_New  Alcohol_New  ...  \\\n",
       "0                             1         0                1            1  ...   \n",
       "1                             1         0                0            1  ...   \n",
       "2                             1         1                0            1  ...   \n",
       "3                             1         1                1            1  ...   \n",
       "4                             1         0                1            0  ...   \n",
       "\n",
       "   Cuisine_Greek  Cuisine_Hawaiian  Cuisine_Indian  Cuisine_Italian  \\\n",
       "0              0                 0               0                0   \n",
       "1              0                 0               0                1   \n",
       "2              0                 0               0                0   \n",
       "3              0                 0               0                0   \n",
       "4              0                 0               0                0   \n",
       "\n",
       "   Cuisine_Japanese  Cuisine_Korean  Cuisine_LatinAmerican  \\\n",
       "0                 1               0                      0   \n",
       "1                 0               0                      0   \n",
       "2                 0               0                      0   \n",
       "3                 0               0                      0   \n",
       "4                 0               0                      0   \n",
       "\n",
       "   Cuisine_Mediterranean  Cuisine_Mexican  Cuisine_Vietnamese  \n",
       "0                      0                0                   0  \n",
       "1                      0                0                   0  \n",
       "2                      1                0                   0  \n",
       "3                      0                0                   0  \n",
       "4                      1                0                   0  \n",
       "\n",
       "[5 rows x 27 columns]"
      ]
     },
     "execution_count": 124,
     "metadata": {},
     "output_type": "execute_result"
    }
   ],
   "source": [
    "CH_LabelEncoder.head()"
   ]
  },
  {
   "cell_type": "code",
   "execution_count": 125,
   "metadata": {},
   "outputs": [],
   "source": [
    "CH_LabelEncoder.head()\n",
    "X = CH_LabelEncoder\n",
    "y = Target"
   ]
  },
  {
   "cell_type": "code",
   "execution_count": 126,
   "metadata": {},
   "outputs": [
    {
     "data": {
      "text/plain": [
       "KNeighborsClassifier(algorithm='auto', leaf_size=30, metric='minkowski',\n",
       "                     metric_params=None, n_jobs=None, n_neighbors=3, p=2,\n",
       "                     weights='uniform')"
      ]
     },
     "execution_count": 126,
     "metadata": {},
     "output_type": "execute_result"
    }
   ],
   "source": [
    "#Import the KNN classifier\n",
    "from sklearn.neighbors import KNeighborsClassifier\n",
    "knn = KNeighborsClassifier(n_neighbors=3)\n",
    "knn.fit(X, y)"
   ]
  },
  {
   "cell_type": "code",
   "execution_count": 127,
   "metadata": {},
   "outputs": [],
   "source": [
    "import sys\n",
    "import numpy\n",
    "numpy.set_printoptions(threshold=sys.maxsize)\n",
    "pred = knn.predict(X)"
   ]
  },
  {
   "cell_type": "code",
   "execution_count": 128,
   "metadata": {},
   "outputs": [
    {
     "data": {
      "text/plain": [
       "0.9181002243829469"
      ]
     },
     "execution_count": 128,
     "metadata": {},
     "output_type": "execute_result"
    }
   ],
   "source": [
    "#Set to K = 3\n",
    "from sklearn import metrics\n",
    "metrics.accuracy_score(y, knn.predict(X))"
   ]
  },
  {
   "cell_type": "code",
   "execution_count": 129,
   "metadata": {},
   "outputs": [
    {
     "data": {
      "text/plain": [
       "0.9050112191473448"
      ]
     },
     "execution_count": 129,
     "metadata": {},
     "output_type": "execute_result"
    }
   ],
   "source": [
    "knn = KNeighborsClassifier(n_neighbors=1)\n",
    "knn.fit(X, y)\n",
    "metrics.accuracy_score(y, knn.predict(X))"
   ]
  },
  {
   "cell_type": "code",
   "execution_count": 130,
   "metadata": {},
   "outputs": [
    {
     "data": {
      "text/plain": [
       "0.9158563949139865"
      ]
     },
     "execution_count": 130,
     "metadata": {},
     "output_type": "execute_result"
    }
   ],
   "source": [
    "knn15 = KNeighborsClassifier(n_neighbors=15)\n",
    "knn15.fit(X, y)\n",
    "#knn15.predict_proba(X)\n",
    "metrics.accuracy_score(y, knn15.predict(X))"
   ]
  },
  {
   "cell_type": "code",
   "execution_count": 131,
   "metadata": {},
   "outputs": [],
   "source": [
    "#Using the Train/Test Split Procedure\n",
    "from sklearn.model_selection import train_test_split\n",
    "X_train, X_test, y_train, y_test = train_test_split(X, y, train_size=0.75, test_size=0.25)"
   ]
  },
  {
   "cell_type": "code",
   "execution_count": 132,
   "metadata": {},
   "outputs": [
    {
     "data": {
      "text/plain": [
       "((2005, 27), (2005,), (669, 27), (669,))"
      ]
     },
     "execution_count": 132,
     "metadata": {},
     "output_type": "execute_result"
    }
   ],
   "source": [
    "(X_train.shape, y_train.shape, X_test.shape, y_test.shape)"
   ]
  },
  {
   "cell_type": "code",
   "execution_count": 133,
   "metadata": {},
   "outputs": [
    {
     "data": {
      "text/plain": [
       "KNeighborsClassifier(algorithm='auto', leaf_size=30, metric='minkowski',\n",
       "                     metric_params=None, n_jobs=None, n_neighbors=5, p=2,\n",
       "                     weights='uniform')"
      ]
     },
     "execution_count": 133,
     "metadata": {},
     "output_type": "execute_result"
    }
   ],
   "source": [
    "#Train the model on the training set\n",
    "knn3 = KNeighborsClassifier(n_neighbors=5)\n",
    "knn3.fit(X_train, y_train)"
   ]
  },
  {
   "cell_type": "code",
   "execution_count": 134,
   "metadata": {},
   "outputs": [
    {
     "data": {
      "text/plain": [
       "0.8968609865470852"
      ]
     },
     "execution_count": 134,
     "metadata": {},
     "output_type": "execute_result"
    }
   ],
   "source": [
    "#And evaluate it on the test set\n",
    "metrics.accuracy_score(y_test, knn3.predict(X_test))"
   ]
  },
  {
   "cell_type": "code",
   "execution_count": 135,
   "metadata": {},
   "outputs": [
    {
     "data": {
      "text/plain": [
       "0.8639760837070254"
      ]
     },
     "execution_count": 135,
     "metadata": {},
     "output_type": "execute_result"
    }
   ],
   "source": [
    "#  Now maybe 1 neighbor won't work as well?\n",
    "knn1 = KNeighborsClassifier(n_neighbors=1)\n",
    "knn1.fit(X_train, y_train)\n",
    "metrics.accuracy_score(y_test, knn1.predict(X_test))"
   ]
  },
  {
   "cell_type": "code",
   "execution_count": 136,
   "metadata": {},
   "outputs": [],
   "source": [
    "#Comparing Testing Accuracy With Null Accuracy (The Low Bar) -- Should we work on this???"
   ]
  },
  {
   "cell_type": "code",
   "execution_count": 137,
   "metadata": {},
   "outputs": [
    {
     "data": {
      "text/plain": [
       "array([0.89925373, 0.90671642, 0.90671642, 0.89925373, 0.88389513,\n",
       "       0.90262172, 0.8988764 , 0.88389513, 0.90636704, 0.91011236])"
      ]
     },
     "execution_count": 137,
     "metadata": {},
     "output_type": "execute_result"
    }
   ],
   "source": [
    "#Cross-Validation N=5\n",
    "from sklearn.model_selection import cross_val_score\n",
    "knn = KNeighborsClassifier(n_neighbors=5)\n",
    "scores = cross_val_score(knn, X, y, cv=10, scoring='accuracy')\n",
    "scores"
   ]
  },
  {
   "cell_type": "code",
   "execution_count": 138,
   "metadata": {},
   "outputs": [
    {
     "data": {
      "text/plain": [
       "(0.8997708088769635, 0.00872053679262297)"
      ]
     },
     "execution_count": 138,
     "metadata": {},
     "output_type": "execute_result"
    }
   ],
   "source": [
    "(scores.mean(), scores.std())"
   ]
  },
  {
   "cell_type": "code",
   "execution_count": 139,
   "metadata": {},
   "outputs": [
    {
     "data": {
      "text/plain": [
       "(0.8823297352917175, 0.9172118824622094)"
      ]
     },
     "execution_count": 139,
     "metadata": {},
     "output_type": "execute_result"
    }
   ],
   "source": [
    "# From this we can get a 95% confidence interval on test accuracy\n",
    "(scores.mean() - 2 * scores.std(), scores.mean() + 2 * scores.std())"
   ]
  },
  {
   "cell_type": "code",
   "execution_count": 140,
   "metadata": {},
   "outputs": [
    {
     "data": {
      "text/plain": [
       "(0.7851144691091138, 0.9014666701384685)"
      ]
     },
     "execution_count": 140,
     "metadata": {},
     "output_type": "execute_result"
    }
   ],
   "source": [
    "#Cross-Validation N=1\n",
    "#Cross-validation can be used to estimate the test error associated with a learning method in order to evaluate\n",
    "#its performance, or to select the appropriate level of flexibility\n",
    "from sklearn.model_selection import cross_val_score\n",
    "knn = KNeighborsClassifier(n_neighbors=1)\n",
    "scores = cross_val_score(knn, X, y, cv=10)\n",
    "(scores.mean() - 2*scores.std(), scores.mean() + 2 * scores.std())"
   ]
  },
  {
   "cell_type": "markdown",
   "metadata": {},
   "source": [
    "********SHOULD WE USE THIS*********\n",
    "\n",
    "There is a tradeoff in choosing number of cross-validation folds\n",
    "Fewer folds, faster, less aggressive use of test data (cv=1 is just a train/test split)\n",
    "More folds, slower. cv=n-1 is \"all but one validation"
   ]
  },
  {
   "cell_type": "code",
   "execution_count": 141,
   "metadata": {},
   "outputs": [
    {
     "name": "stdout",
     "output_type": "stream",
     "text": [
      "2 0.9136125654450262 0.0018698578908002972\n",
      "10 0.9151098440382357 0.0016375679691384962\n",
      "20 0.9136410470620996 0.009542221728810548\n",
      "50 0.9155555555555557 0.008627269536019866\n",
      "100 0.9154253154253154 0.014280495378483634\n",
      "200 0.9163040293040293 0.020720073811669192\n"
     ]
    }
   ],
   "source": [
    "knn = KNeighborsClassifier(n_neighbors=10)\n",
    "for v in (2, 10, 20, 50, 100, 200):\n",
    "    cv = cross_val_score(knn, X, y, cv=v)\n",
    "    print (v, cv.mean(), cv.std())"
   ]
  },
  {
   "cell_type": "code",
   "execution_count": 142,
   "metadata": {},
   "outputs": [],
   "source": [
    "#Hyperparameter Optimization\n",
    "scores = []\n",
    "for k in range(1, 200, 5):\n",
    "    knn = KNeighborsClassifier(n_neighbors=k)\n",
    "    cv = cross_val_score(knn, X, y, cv=10)\n",
    "    scores.append([k, cv.mean()])"
   ]
  },
  {
   "cell_type": "code",
   "execution_count": 143,
   "metadata": {},
   "outputs": [
    {
     "data": {
      "text/plain": [
       "[1, 0.8432905696237911]"
      ]
     },
     "execution_count": 143,
     "metadata": {},
     "output_type": "execute_result"
    }
   ],
   "source": [
    "scores[0]"
   ]
  },
  {
   "cell_type": "code",
   "execution_count": 144,
   "metadata": {},
   "outputs": [
    {
     "data": {
      "text/plain": [
       "<matplotlib.axes._subplots.AxesSubplot at 0x17ed9451d88>"
      ]
     },
     "execution_count": 144,
     "metadata": {},
     "output_type": "execute_result"
    },
    {
     "data": {
      "image/png": "[encoded data removed]",
      "text/plain": [
       "<Figure size 432x288 with 1 Axes>"
      ]
     },
     "metadata": {
      "needs_background": "light"
     },
     "output_type": "display_data"
    }
   ],
   "source": [
    "# This is a plot of test accuracy as a function of k\n",
    "\n",
    "data = pd.DataFrame(scores,columns=['k','score'])\n",
    "data.plot.line(x='k',y='score')"
   ]
  },
  {
   "cell_type": "code",
   "execution_count": 145,
   "metadata": {},
   "outputs": [
    {
     "data": {
      "image/png": "[encoded data removed]",
      "text/plain": [
       "<Figure size 432x288 with 1 Axes>"
      ]
     },
     "metadata": {
      "needs_background": "light"
     },
     "output_type": "display_data"
    }
   ],
   "source": [
    "# Run between k range 10 and 100\n",
    "scores = []\n",
    "for k in range(10, 100, 5):\n",
    "    knn = KNeighborsClassifier(n_neighbors=k)\n",
    "    cv = cross_val_score(knn, X, y, cv=10)\n",
    "    scores.append([k, cv.mean()])\n",
    "data = pd.DataFrame(scores,columns=['k','score'])\n",
    "data.plot.line(x='k',y='score');"
   ]
  },
  {
   "cell_type": "code",
   "execution_count": 146,
   "metadata": {},
   "outputs": [
    {
     "data": {
      "image/png": "[encoded data removed]",
      "text/plain": [
       "<Figure size 432x288 with 1 Axes>"
      ]
     },
     "metadata": {
      "needs_background": "light"
     },
     "output_type": "display_data"
    }
   ],
   "source": [
    "# K between 10 and 40\n",
    "scores = []\n",
    "for k in range(10, 20, 1):\n",
    "    knn = KNeighborsClassifier(n_neighbors=k)\n",
    "    cv = cross_val_score(knn, X, y, cv=10)\n",
    "    scores.append([k, cv.mean()])\n",
    "data = pd.DataFrame(scores,columns=['k','score'])\n",
    "data.plot.line(x='k',y='score');"
   ]
  },
  {
   "cell_type": "code",
   "execution_count": 147,
   "metadata": {},
   "outputs": [
    {
     "data": {
      "text/plain": [
       "0.9237668161434978"
      ]
     },
     "execution_count": 147,
     "metadata": {},
     "output_type": "execute_result"
    }
   ],
   "source": [
    "#  Now maybe 16 neighbor\n",
    "knn1 = KNeighborsClassifier(n_neighbors=16)\n",
    "knn1.fit(X_train, y_train)\n",
    "metrics.accuracy_score(y_test, knn1.predict(X_test))"
   ]
  }
 ],
 "metadata": {
  "kernelspec": {
   "display_name": "Python 3",
   "language": "python",
   "name": "python3"
  },
  "language_info": {
   "codemirror_mode": {
    "name": "ipython",
    "version": 3
   },
   "file_extension": ".py",
   "mimetype": "text/x-python",
   "name": "python",
   "nbconvert_exporter": "python",
   "pygments_lexer": "ipython3",
   "version": "3.7.4"
  }
 },
 "nbformat": 4,
 "nbformat_minor": 2
}
